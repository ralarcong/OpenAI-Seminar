{
 "cells": [
  {
   "cell_type": "code",
   "execution_count": 1,
   "id": "3f3b5d46",
   "metadata": {},
   "outputs": [],
   "source": [
    "import os\n",
    "from openai import OpenAI\n",
    "import sys\n",
    "import config\n",
    "import getpass\n",
    "import re"
   ]
  },
  {
   "cell_type": "code",
   "execution_count": 2,
   "id": "a017e194",
   "metadata": {},
   "outputs": [],
   "source": [
    "from langchain.document_loaders import WikipediaLoader\n",
    "from langchain.text_splitter import RecursiveCharacterTextSplitter\n",
    "from langchain.document_loaders import PyPDFLoader\n",
    "from langchain.vectorstores.utils import filter_complex_metadata"
   ]
  },
  {
   "cell_type": "code",
   "execution_count": 3,
   "id": "0461237a",
   "metadata": {},
   "outputs": [],
   "source": [
    "os.environ[\"OPENAI_API_KEY\"] = config.OPENAI_API_KEY"
   ]
  },
  {
   "cell_type": "code",
   "execution_count": 4,
   "id": "83ce7873",
   "metadata": {},
   "outputs": [],
   "source": [
    "pdfpath=\"Resources/Manual_Usuario.pdf\"\n",
    "loader = PyPDFLoader(pdfpath)\n",
    "docs = loader.load()"
   ]
  },
  {
   "cell_type": "code",
   "execution_count": 5,
   "id": "da0dea06",
   "metadata": {},
   "outputs": [
    {
     "data": {
      "text/plain": [
       "Document(page_content=' \\n \\n ', metadata={'source': 'Resources/Manual_Usuario.pdf', 'page': 0})"
      ]
     },
     "execution_count": 5,
     "metadata": {},
     "output_type": "execute_result"
    }
   ],
   "source": [
    "docs[0]"
   ]
  },
  {
   "cell_type": "code",
   "execution_count": 6,
   "id": "b42929fd",
   "metadata": {},
   "outputs": [
    {
     "data": {
      "text/plain": [
       "Document(page_content=' \\n  \\nWelcome to the next revolution in Rehab  \\n \\n11 \\n \\n3. Instalación - Desinstalación  \\n3.1. Procedimiento de instalación  \\n3.1.1. Obtener todos los elementos necesarios  \\n● Lea la guía de seguridad proporcionada del robot y del sensor 3D y las \\nsecciones previas de este documento.  \\n● Desempaquete el robot, el sensor 3D, el sensor cardíaco (si se le ha \\nproporcionado uno) y el router Wi -Fi proporcionado.  \\n● Tome una tablet  o un smartphone  con Android 8  o superior (desde ahora \\n“dispositivo Android”).  \\n● Instale la aplicación  de Inrobics  en su dispositivo Android  usando la \\nGoogle Play Store . \\n● Ponga el robot en un lugar seguro sobre el suelo y enchufe su cable de \\ncorriente para cargar las baterías hasta que la luz del cargador sea verde.  \\n3.1.2. Iniciar el robot Robic y el sensor  \\n● Ponga el robot Robic  en un lugar seguro en el suelo y enciéndalo \\npresionando el botón  de su pecho una vez . El robot estará disponible \\ncuando las luces en sus orejas paren de parpadear  o cuando emita “ Ognak \\nGnuk !”. \\n● Enchufe el cable de energía al sensor 3D y póngalo en una posición segura \\npara que detecte el cuerpo entero con los brazos extendidos hacia el \\ncielo, tal como se explica en la Sección 2.2.3.  \\n3.1.3. Configurar la conexión  \\n● Este paso se enfoca en conectar el robot Robic, el sensor 3D y el \\ndispositivo Android  usando la misma conexión Wi-Fi para comunicarse \\nentre ellos. También se configurará el sensor cardíaco Bluetooth.  \\n \\n● Usando el router Wi -Fi proporcionado :', metadata={'source': 'Resources/Manual_Usuario.pdf', 'page': 10})"
      ]
     },
     "execution_count": 6,
     "metadata": {},
     "output_type": "execute_result"
    }
   ],
   "source": [
    "docs[10]"
   ]
  },
  {
   "cell_type": "code",
   "execution_count": 5,
   "id": "99528fec",
   "metadata": {},
   "outputs": [],
   "source": [
    "text_splitter = RecursiveCharacterTextSplitter(\n",
    "    chunk_size = 2000,\n",
    "    chunk_overlap  = 500,\n",
    "    length_function = len,\n",
    "    is_separator_regex = False,\n",
    ")\n",
    "\n",
    "data = text_splitter.split_documents(docs)"
   ]
  },
  {
   "cell_type": "code",
   "execution_count": 6,
   "id": "052ede98",
   "metadata": {},
   "outputs": [],
   "source": [
    "from langchain.vectorstores import Chroma\n",
    "#from langchain.embeddings import OpenAIEmbeddings\n",
    "from langchain_openai import OpenAIEmbeddings"
   ]
  },
  {
   "cell_type": "code",
   "execution_count": 7,
   "id": "927e4b36",
   "metadata": {},
   "outputs": [],
   "source": [
    "embeddings = OpenAIEmbeddings()"
   ]
  },
  {
   "cell_type": "code",
   "execution_count": 8,
   "id": "0de38d3b",
   "metadata": {},
   "outputs": [],
   "source": [
    "embedding = OpenAIEmbeddings()\n",
    "persist_directory = f'data/chroma/'\n",
    "from langchain.vectorstores.utils import filter_complex_metadata\n",
    "filtered = filter_complex_metadata(data)\n",
    "vectordb = Chroma.from_documents(\n",
    "    documents=filtered,\n",
    "    embedding=embedding,\n",
    "    persist_directory=persist_directory\n",
    ")\n",
    "vectordb.persist()"
   ]
  },
  {
   "cell_type": "code",
   "execution_count": 9,
   "id": "11bf9571",
   "metadata": {},
   "outputs": [],
   "source": [
    "from langchain.chains import RetrievalQA\n",
    "from langchain.prompts import PromptTemplate\n",
    "#from langchain.chat_models import ChatOpenAI\n",
    "from langchain_openai import ChatOpenAI"
   ]
  },
  {
   "cell_type": "code",
   "execution_count": 10,
   "id": "12ad6c9a",
   "metadata": {},
   "outputs": [],
   "source": [
    "template = \"\"\"You are a bot that answers questions about the context provided.\n",
    "If you don't know the answer, simply state that you don't know.\n",
    "\n",
    "{context}\n",
    "\n",
    "Question: {question}\"\"\"\n",
    "\n",
    "PROMPT = PromptTemplate(\n",
    "    template=template, input_variables=[\"context\", \"question\"]\n",
    ")"
   ]
  },
  {
   "cell_type": "code",
   "execution_count": 11,
   "id": "ed081450",
   "metadata": {},
   "outputs": [],
   "source": [
    "llm = ChatOpenAI(temperature=0, model=\"gpt-3.5-turbo\")"
   ]
  },
  {
   "cell_type": "code",
   "execution_count": 12,
   "id": "f56a6388",
   "metadata": {},
   "outputs": [],
   "source": [
    "qa_with_source = RetrievalQA.from_chain_type(\n",
    "    llm=llm,\n",
    "    chain_type=\"stuff\",\n",
    "    retriever=vectordb.as_retriever(),\n",
    "    chain_type_kwargs={\"prompt\": PROMPT, },\n",
    "    return_source_documents=True,\n",
    ")"
   ]
  },
  {
   "cell_type": "code",
   "execution_count": 13,
   "id": "2d766840",
   "metadata": {},
   "outputs": [
    {
     "data": {
      "text/plain": [
       "{'query': 'Qué es Inrobics?',\n",
       " 'result': 'Inrobics es un producto sanitario certificado de clase I en la Unión Europea.',\n",
       " 'source_documents': [Document(page_content='Inrobics  es un producto sanitario \\ncertificado de clase l en la Unión \\nEuropea  \\n Inrobics Social Robotics, S.L.L.  \\nAv. Gregorio Peces Barba 1,  \\n28919 Leganés (Madrid) - SPAIN  \\n Por favor, lea los manuales \\nproporcionados  \\n Número de serie: 6 \\n (01)08437025423002  \\n(11)23 1218  \\n(21)6', metadata={'page': 1, 'source': 'Resources/Manual_Usuario.pdf'}),\n",
       "  Document(page_content='Inrobics  es un producto sanitario \\ncertificado de clase l en la Unión \\nEuropea  \\n Inrobics Social Robotics, S.L.L.  \\nAv. Gregorio Peces Barba 1,  \\n28919 Leganés (Madrid) - SPAIN  \\n Por favor, lea los manuales \\nproporcionados  \\n Número de serie: 6 \\n (01)08437025423002  \\n(11)23 1218  \\n(21)6', metadata={'page': 1, 'source': 'Resources/Manual_Usuario.pdf'}),\n",
       "  Document(page_content='Inrobics  es un producto sanitario \\ncertificado de clase l en la Unión \\nEuropea  \\n Inrobics Social Robotics, S.L.L.  \\nAv. Gregorio Peces Barba 1,  \\n28919 Leganés (Madrid) - SPAIN  \\n Por favor, lea los manuales \\nproporcionados  \\n Número de serie: 6 \\n (01)08437025423002  \\n(11)23 1218  \\n(21)6', metadata={'page': 1, 'source': 'Resources/Manual_Usuario.pdf'}),\n",
       "  Document(page_content='Inrobics  es un producto sanitario \\ncertificado de clase l en la Unión \\nEuropea  \\n Inrobics Social Robotics, S.L.L.  \\nAv. Gregorio Peces Barba 1,  \\n28919 Leganés (Madrid) - SPAIN  \\n Por favor, lea los manuales \\nproporcionados  \\n Número de serie: 6 \\n (01)08437025423002  \\n(11)23 1218  \\n(21)6', metadata={'page': 1, 'source': 'Resources/Manual_Usuario.pdf'})]}"
      ]
     },
     "execution_count": 13,
     "metadata": {},
     "output_type": "execute_result"
    }
   ],
   "source": [
    "qa_with_source.invoke(\"Qué es Inrobics?\")"
   ]
  },
  {
   "cell_type": "code",
   "execution_count": 19,
   "id": "da57b1ef",
   "metadata": {},
   "outputs": [
    {
     "data": {
      "text/plain": [
       "{'query': 'Háblame sobre Inrobics?',\n",
       " 'result': 'Inrobics es un producto sanitario certificado de clase I en la Unión Europea. Es fabricado por Inrobics Social Robotics, S.L.L. con sede en Leganés, Madrid, España. Se recomienda leer los manuales proporcionados y el número de serie es 6.',\n",
       " 'source_documents': [Document(page_content='Inrobics  es un producto sanitario \\ncertificado de clase l en la Unión \\nEuropea  \\n Inrobics Social Robotics, S.L.L.  \\nAv. Gregorio Peces Barba 1,  \\n28919 Leganés (Madrid) - SPAIN  \\n Por favor, lea los manuales \\nproporcionados  \\n Número de serie: 6 \\n (01)08437025423002  \\n(11)23 1218  \\n(21)6', metadata={'page': 1, 'source': 'Resources/Manual_Usuario.pdf'}),\n",
       "  Document(page_content='Inrobics  es un producto sanitario \\ncertificado de clase l en la Unión \\nEuropea  \\n Inrobics Social Robotics, S.L.L.  \\nAv. Gregorio Peces Barba 1,  \\n28919 Leganés (Madrid) - SPAIN  \\n Por favor, lea los manuales \\nproporcionados  \\n Número de serie: 6 \\n (01)08437025423002  \\n(11)23 1218  \\n(21)6', metadata={'page': 1, 'source': 'Resources/Manual_Usuario.pdf'}),\n",
       "  Document(page_content='Inrobics  es un producto sanitario \\ncertificado de clase l en la Unión \\nEuropea  \\n Inrobics Social Robotics, S.L.L.  \\nAv. Gregorio Peces Barba 1,  \\n28919 Leganés (Madrid) - SPAIN  \\n Por favor, lea los manuales \\nproporcionados  \\n Número de serie: 6 \\n (01)08437025423002  \\n(11)23 1218  \\n(21)6', metadata={'page': 1, 'source': 'Resources/Manual_Usuario.pdf'}),\n",
       "  Document(page_content='Inrobics  es un producto sanitario \\ncertificado de clase l en la Unión \\nEuropea  \\n Inrobics Social Robotics, S.L.L.  \\nAv. Gregorio Peces Barba 1,  \\n28919 Leganés (Madrid) - SPAIN  \\n Por favor, lea los manuales \\nproporcionados  \\n Número de serie: 6 \\n (01)08437025423002  \\n(11)23 1218  \\n(21)6', metadata={'page': 1, 'source': 'Resources/Manual_Usuario.pdf'})]}"
      ]
     },
     "execution_count": 19,
     "metadata": {},
     "output_type": "execute_result"
    }
   ],
   "source": [
    "qa_with_source.invoke(\"Háblame sobre Inrobics?\")"
   ]
  },
  {
   "cell_type": "code",
   "execution_count": 14,
   "id": "a68afec2",
   "metadata": {},
   "outputs": [
    {
     "data": {
      "text/plain": [
       "{'query': 'Qué actividades ofrece Inrobics?',\n",
       " 'result': 'Inrobics ofrece actividades terapéuticas de diferentes niveles de dificultad, como EVAL, WARM UP, DYNAMIC, y AVDS.',\n",
       " 'source_documents': [Document(page_content='Welcome to the next revolution in Rehab  \\n \\n13 \\n \\n4. Inicio  \\n4.1. Ejecutar una sesión en la clínica  \\nEl software médico  Inrobics  ha sido diseñado  para abordar miembros \\nsuperiores e inferiores , así como aspectos cognitivos . Las actividades que \\ncomponen el catálogo de Inrobics se nutren de actividades terapéuticas  de \\ndiferentes niveles  de dificultad. Estas actividades  terapéuticas son fácilmente \\nconfigurables  y personalizables para que el profesional pueda individualizar  el \\ncaso de uso a cada paciente.  \\nUna sesión de Inrobics se compone de bloques de trabajo formados por los \\nexergames con descansos activos  intercalados  (en caso de que se prescriban). \\nEl tiempo de duración de una sesión con Inrobics es completamente \\nindividualizable a las necesidades del usuario, pudiendo ir desde 10 hasta 25 \\nminutos aproximadamente , o lo considerado por el profesional responsable.   \\nExergames  \\nActualmente la plataforma cuenta con 12 actividades . Sus características son \\nlas siguientes:  \\n● EVAL: Actividad para monitorizar el rango  de movimiento  articular  de \\nmiembros superiores del usuario al realizar diferentes movimientos que \\nle propone Robic.  \\n● WARM UP: El robot  Robic propone unas secuencias de movimientos que \\nrealiza con la persona de manera simultánea. Puede utilizarse  como un \\ncalentamiento previo al resto de la sesión.  \\n● DYNAMIC: Robic propone secuencias de  ejercicios físicos  dirigidas al \\nentrenamiento  del rango de movimiento activo y aspectos funcionales de \\nmovilidad . Se trabaja  mediante la repetición de secuencias de \\nmovimientos.  \\n● AVDS: Robic representa la realización de diferentes Actividades de la \\nVida Diaria (AVDs) , como alimentación, aseo o compra, a través de sus', metadata={'page': 12, 'source': 'Resources/Manual_Usuario.pdf'}),\n",
       "  Document(page_content='Welcome to the next revolution in Rehab  \\n \\n13 \\n \\n4. Inicio  \\n4.1. Ejecutar una sesión en la clínica  \\nEl software médico  Inrobics  ha sido diseñado  para abordar miembros \\nsuperiores e inferiores , así como aspectos cognitivos . Las actividades que \\ncomponen el catálogo de Inrobics se nutren de actividades terapéuticas  de \\ndiferentes niveles  de dificultad. Estas actividades  terapéuticas son fácilmente \\nconfigurables  y personalizables para que el profesional pueda individualizar  el \\ncaso de uso a cada paciente.  \\nUna sesión de Inrobics se compone de bloques de trabajo formados por los \\nexergames con descansos activos  intercalados  (en caso de que se prescriban). \\nEl tiempo de duración de una sesión con Inrobics es completamente \\nindividualizable a las necesidades del usuario, pudiendo ir desde 10 hasta 25 \\nminutos aproximadamente , o lo considerado por el profesional responsable.   \\nExergames  \\nActualmente la plataforma cuenta con 12 actividades . Sus características son \\nlas siguientes:  \\n● EVAL: Actividad para monitorizar el rango  de movimiento  articular  de \\nmiembros superiores del usuario al realizar diferentes movimientos que \\nle propone Robic.  \\n● WARM UP: El robot  Robic propone unas secuencias de movimientos que \\nrealiza con la persona de manera simultánea. Puede utilizarse  como un \\ncalentamiento previo al resto de la sesión.  \\n● DYNAMIC: Robic propone secuencias de  ejercicios físicos  dirigidas al \\nentrenamiento  del rango de movimiento activo y aspectos funcionales de \\nmovilidad . Se trabaja  mediante la repetición de secuencias de \\nmovimientos.  \\n● AVDS: Robic representa la realización de diferentes Actividades de la \\nVida Diaria (AVDs) , como alimentación, aseo o compra, a través de sus', metadata={'page': 12, 'source': 'Resources/Manual_Usuario.pdf'}),\n",
       "  Document(page_content='Welcome to the next revolution in Rehab  \\n \\n13 \\n \\n4. Inicio  \\n4.1. Ejecutar una sesión en la clínica  \\nEl software médico  Inrobics  ha sido diseñado  para abordar miembros \\nsuperiores e inferiores , así como aspectos cognitivos . Las actividades que \\ncomponen el catálogo de Inrobics se nutren de actividades terapéuticas  de \\ndiferentes niveles  de dificultad. Estas actividades  terapéuticas son fácilmente \\nconfigurables  y personalizables para que el profesional pueda individualizar  el \\ncaso de uso a cada paciente.  \\nUna sesión de Inrobics se compone de bloques de trabajo formados por los \\nexergames con descansos activos  intercalados  (en caso de que se prescriban). \\nEl tiempo de duración de una sesión con Inrobics es completamente \\nindividualizable a las necesidades del usuario, pudiendo ir desde 10 hasta 25 \\nminutos aproximadamente , o lo considerado por el profesional responsable.   \\nExergames  \\nActualmente la plataforma cuenta con 12 actividades . Sus características son \\nlas siguientes:  \\n● EVAL: Actividad para monitorizar el rango  de movimiento  articular  de \\nmiembros superiores del usuario al realizar diferentes movimientos que \\nle propone Robic.  \\n● WARM UP: El robot  Robic propone unas secuencias de movimientos que \\nrealiza con la persona de manera simultánea. Puede utilizarse  como un \\ncalentamiento previo al resto de la sesión.  \\n● DYNAMIC: Robic propone secuencias de  ejercicios físicos  dirigidas al \\nentrenamiento  del rango de movimiento activo y aspectos funcionales de \\nmovilidad . Se trabaja  mediante la repetición de secuencias de \\nmovimientos.  \\n● AVDS: Robic representa la realización de diferentes Actividades de la \\nVida Diaria (AVDs) , como alimentación, aseo o compra, a través de sus', metadata={'page': 12, 'source': 'Resources/Manual_Usuario.pdf'}),\n",
       "  Document(page_content='Welcome to the next revolution in Rehab  \\n \\n13 \\n \\n4. Inicio  \\n4.1. Ejecutar una sesión en la clínica  \\nEl software médico  Inrobics  ha sido diseñado  para abordar miembros \\nsuperiores e inferiores , así como aspectos cognitivos . Las actividades que \\ncomponen el catálogo de Inrobics se nutren de actividades terapéuticas  de \\ndiferentes niveles  de dificultad. Estas actividades  terapéuticas son fácilmente \\nconfigurables  y personalizables para que el profesional pueda individualizar  el \\ncaso de uso a cada paciente.  \\nUna sesión de Inrobics se compone de bloques de trabajo formados por los \\nexergames con descansos activos  intercalados  (en caso de que se prescriban). \\nEl tiempo de duración de una sesión con Inrobics es completamente \\nindividualizable a las necesidades del usuario, pudiendo ir desde 10 hasta 25 \\nminutos aproximadamente , o lo considerado por el profesional responsable.   \\nExergames  \\nActualmente la plataforma cuenta con 12 actividades . Sus características son \\nlas siguientes:  \\n● EVAL: Actividad para monitorizar el rango  de movimiento  articular  de \\nmiembros superiores del usuario al realizar diferentes movimientos que \\nle propone Robic.  \\n● WARM UP: El robot  Robic propone unas secuencias de movimientos que \\nrealiza con la persona de manera simultánea. Puede utilizarse  como un \\ncalentamiento previo al resto de la sesión.  \\n● DYNAMIC: Robic propone secuencias de  ejercicios físicos  dirigidas al \\nentrenamiento  del rango de movimiento activo y aspectos funcionales de \\nmovilidad . Se trabaja  mediante la repetición de secuencias de \\nmovimientos.  \\n● AVDS: Robic representa la realización de diferentes Actividades de la \\nVida Diaria (AVDs) , como alimentación, aseo o compra, a través de sus', metadata={'page': 12, 'source': 'Resources/Manual_Usuario.pdf'})]}"
      ]
     },
     "execution_count": 14,
     "metadata": {},
     "output_type": "execute_result"
    }
   ],
   "source": [
    "qa_with_source.invoke(\"Qué actividades ofrece Inrobics?\")"
   ]
  },
  {
   "cell_type": "code",
   "execution_count": 17,
   "id": "0ecbc19b",
   "metadata": {},
   "outputs": [
    {
     "data": {
      "text/plain": [
       "{'query': 'Dame una lista de las  actividades que ofrece Inrobics, solo los nombres',\n",
       " 'result': 'Lo siento, no tengo información sobre las actividades específicas que ofrece Inrobics.',\n",
       " 'source_documents': [Document(page_content='Inrobics  es un producto sanitario \\ncertificado de clase l en la Unión \\nEuropea  \\n Inrobics Social Robotics, S.L.L.  \\nAv. Gregorio Peces Barba 1,  \\n28919 Leganés (Madrid) - SPAIN  \\n Por favor, lea los manuales \\nproporcionados  \\n Número de serie: 6 \\n (01)08437025423002  \\n(11)23 1218  \\n(21)6', metadata={'page': 1, 'source': 'Resources/Manual_Usuario.pdf'}),\n",
       "  Document(page_content='Inrobics  es un producto sanitario \\ncertificado de clase l en la Unión \\nEuropea  \\n Inrobics Social Robotics, S.L.L.  \\nAv. Gregorio Peces Barba 1,  \\n28919 Leganés (Madrid) - SPAIN  \\n Por favor, lea los manuales \\nproporcionados  \\n Número de serie: 6 \\n (01)08437025423002  \\n(11)23 1218  \\n(21)6', metadata={'page': 1, 'source': 'Resources/Manual_Usuario.pdf'}),\n",
       "  Document(page_content='Inrobics  es un producto sanitario \\ncertificado de clase l en la Unión \\nEuropea  \\n Inrobics Social Robotics, S.L.L.  \\nAv. Gregorio Peces Barba 1,  \\n28919 Leganés (Madrid) - SPAIN  \\n Por favor, lea los manuales \\nproporcionados  \\n Número de serie: 6 \\n (01)08437025423002  \\n(11)23 1218  \\n(21)6', metadata={'page': 1, 'source': 'Resources/Manual_Usuario.pdf'}),\n",
       "  Document(page_content='Inrobics  es un producto sanitario \\ncertificado de clase l en la Unión \\nEuropea  \\n Inrobics Social Robotics, S.L.L.  \\nAv. Gregorio Peces Barba 1,  \\n28919 Leganés (Madrid) - SPAIN  \\n Por favor, lea los manuales \\nproporcionados  \\n Número de serie: 6 \\n (01)08437025423002  \\n(11)23 1218  \\n(21)6', metadata={'page': 1, 'source': 'Resources/Manual_Usuario.pdf'})]}"
      ]
     },
     "execution_count": 17,
     "metadata": {},
     "output_type": "execute_result"
    }
   ],
   "source": [
    "qa_with_source.invoke(\"Dame una lista de las  actividades que ofrece Inrobics, solo los nombres\")"
   ]
  },
  {
   "cell_type": "code",
   "execution_count": 18,
   "id": "a0ce8d28",
   "metadata": {},
   "outputs": [
    {
     "data": {
      "text/plain": [
       "[Document(page_content='Inrobics  es un producto sanitario \\ncertificado de clase l en la Unión \\nEuropea  \\n Inrobics Social Robotics, S.L.L.  \\nAv. Gregorio Peces Barba 1,  \\n28919 Leganés (Madrid) - SPAIN  \\n Por favor, lea los manuales \\nproporcionados  \\n Número de serie: 6 \\n (01)08437025423002  \\n(11)23 1218  \\n(21)6', metadata={'source': 'Resources/Manual_Usuario.pdf', 'page': 1}),\n",
       " Document(page_content='Welcome to the next revolution in Rehab  \\n \\n3 \\nContenido  \\n \\n1. Introducción  ................................ ................................ .................  4 \\n1.1. Convenciones  ................................ ................................ .............  5 \\n1.2. Previsión de uso  ................................ ................................ ..........  6 \\n2. Precauciones  ................................ ................................ ...................  7 \\n2.1. Conformidad de uso  ................................ ................................ ...... 7 \\n2.2. Instrucciones de seguridad  ................................ ..............................  7 \\n2.2.1. Interferencias electromagnéticas  ................................ .................  7 \\n2.2.2. Conexión eléctrica  ................................ ................................ .. 8 \\n2.2.3. Entorno.  ................................ ................................ ..............  8 \\n2.2.4. Condiciones de almacenamiento ................................ ..................  9 \\n2.3. Mal funcionamiento  ................................ ................................ ...... 9 \\n2.4. Contraindicaciones  ................................ ................................ ...... 10 \\n3. Instalación - Desinstalación  ................................ ................................ . 11 \\n3.1. Procedimiento de instalación  ................................ .........................  11 \\n3.1.1. Obtener todos los elementos necesarios  ................................ .......  11 \\n3.1.2. Iniciar el robot Robic y el sensor  ................................ ................  11 \\n3.1.3. Configurar la conexión  ................................ ............................  11 \\n3.2. Procedimiento de desinstalación  ................................ .....................  12 \\n4. Inicio  ................................ ................................ ...........................  13', metadata={'source': 'Resources/Manual_Usuario.pdf', 'page': 2}),\n",
       " Document(page_content='3.1.1. Obtener todos los elementos necesarios  ................................ .......  11 \\n3.1.2. Iniciar el robot Robic y el sensor  ................................ ................  11 \\n3.1.3. Configurar la conexión  ................................ ............................  11 \\n3.2. Procedimiento de desinstalación  ................................ .....................  12 \\n4. Inicio  ................................ ................................ ...........................  13 \\n4.1. Ejecutar una sesión en la clínica  ................................ ......................  13 \\n5. Funciones avanzadas  ................................ ................................ .........  17 \\n5.1. Inicio de sesión  ................................ ................................ ..........  17 \\n5.2. Listado de pacientes  ................................ ................................ .... 18 \\n5.3. Configuración del paciente y plan de terapia  ................................ .......  20 \\n5.4. Configuración de la sesión  ................................ .............................  23 \\n5.5. Ejecución de la sesión  ................................ ................................ .. 27 \\n6. Mantenimiento  ................................ ................................ ................  29 \\n7. Limpieza y desinfección  ................................ ................................ ..... 29 \\n8. Solución de problemas. Mensajes tipo “ERROR”  ................................ .........  29 \\n9.  Símbolos en el etiquetado  ................................ ................................ . 32 \\n10. Bibliografía de interés  ................................ ................................ ...... 33 \\n11. Contacto del fabricante  ................................ ................................ .... 35', metadata={'source': 'Resources/Manual_Usuario.pdf', 'page': 2}),\n",
       " Document(page_content='Welcome to the next revolution in Rehab  \\n \\n4 \\n1. Introducción  \\n \\nEste documento es la guía del usuario de la plataforma Inrobics  (el producto), \\nun dispositivo diseñado por INROBICS SOCIAL ROBOTICS, S.L.L.  \\nEl sistema Inrobics  es una plataforma digital basada en robótica social \\ndiseñada como herramienta complementaria a los procesos de rehabilitación \\nen población con alteraciones neurológicas que limitan la participación en las \\nactividades de la vida diaria.  \\nEl software  basado en Inteligencia Artificial se enriquece con un robot social \\nde apariencia humanoide (llamado Robic) y un sensor 3D RGB -D que \\nmonitoriza, registra y mide el desempeño del paciente durante las sesiones.  \\nLa plataforma es controlable desde cualquier dispositivo con sistema operativo \\nAndroid y conexión a internet ( smartphone , tablet , etc.), ofreciendo al clínico \\n(terapeuta ocupacional, fisioterapeuta, médico rehabilitador o profesional del \\námbito) una amplia gama de sesiones de rehabilitación fundamentadas en los \\nprincipios de gamificación, intensificación de terapias y neuroplastici dad. \\nRecomendamos leer con atención el manual antes de empezar a utilizar el \\nproducto. El producto debe ser utilizado siempre por clínicos formados y \\ndurante su uso no se debe dejar nunca al paciente solo.  \\nPor favor, lea atentamente las precauciones con símbolos para asegurarse de \\nque el dispositivo se utiliza en las mejores condiciones y con total seguridad.', metadata={'source': 'Resources/Manual_Usuario.pdf', 'page': 3}),\n",
       " Document(page_content='Welcome to the next revolution in Rehab  \\n \\n5 \\n1.1. Convenciones  \\nPara evitar cualquier daño físico o material, este documento divide las \\ninstrucciones de seguridad en 3 niveles de peligro.  \\n \\n \\n ATENCIÓN  \\nSituación peligrosa que puede causar daños materiales o \\nprovocar lesiones de moderadas a graves.  \\n \\n RIESGO  \\nSituación peligrosa que puede provocar lesiones graves o \\nmortales.  \\n \\n PELIGRO  \\nSituación peligrosa que podría causar inmediatamente lesiones \\ngraves o mortales.', metadata={'source': 'Resources/Manual_Usuario.pdf', 'page': 4}),\n",
       " Document(page_content='Welcome to the next revolution in Rehab  \\n \\n6 \\n1.2. Previsión de uso  \\nLa plataforma permite el entrenamiento de funciones \\nneuromusculoesqueléticas relacionadas con el movimiento de los miembros \\nsuperiores e inferiores (control motor, coordinación, propiocepción, tono \\nmuscular) y funciones cognitivas (memoria, atención, praxi s, etc). Los \\nexergames  (actividades terapéuticas) propuestos se pueden graduar, según el \\ncriterio del experto, en mayor o menor grado de dificultad según el desempeño \\ny la evolución del paciente. Estos abordan rutinas de movimientos más simples \\n(pocos elem entos) a más complejos (movimientos multiarticulares).  \\nLa plataforma y su contenido complementan el protocolo convencional de \\nrehabilitación al que está adscrito el paciente, por ello las sesiones tienen un \\npromedio de duración de 10 a 25 minutos (completamente individualizable), \\ndurante los cuales se prescrib en descansos activos. Asimismo, las sesiones se \\npueden interrumpir si el terapeuta o las condiciones del paciente lo requieren.  \\nEl diseño permite la utilización de la plataforma en modalidad hands -off, es \\ndecir, el clínico está presente en todo momento durante la sesión, pero no \\nnecesita tener contacto directo con el paciente. Y en modalidad hands -on, es \\ndecir, el clínico está presente durante la sesión y asiste al paciente para realizar \\ncorrecciones posturales, dar apoyo físico, mantener activación muscular, etc.  \\nSon beneficiarios de la herramienta las personas que presentan alteraciones \\nneurológicas que afectan a su funcionamiento físico, cognitivo o social.', metadata={'source': 'Resources/Manual_Usuario.pdf', 'page': 5}),\n",
       " Document(page_content='Welcome to the next revolution in Rehab  \\n \\n7 \\n2. Precauciones  \\n \\n2.1. Conformidad de uso  \\nCualquier uso inapropiado está prohibido.  \\nEl usuario debe:  \\n● Usar solo los robots y sensores 3D proporcionados por Inrobics.  \\n● No modificar el software  ni el hardware  del robot ni del sensor 3D.  \\n● Usar solo productos no defectuosos.  \\n● Proteger a los pacientes, terceras partes, otros operadores, asistentes \\ny a sí mismo de cualquier peligro.  \\n● Evitar cualquier contaminación por el producto.  \\nEl terapeuta debe comprobar la seguridad de la sesión y las condiciones de los \\ndispositivos antes de cada uso, así como verificar que el sistema esté operativo \\nen todo momento y mantenerlo en buenas condiciones de trabajo.  \\nSolo los técnicos de Inrobics  están autorizados a reparar los productos de \\nInrobics . \\n2.2. Instrucciones de seguridad  \\n \\n2.2.1. Interferencias electromagnéticas  \\nLos dispositivos que provee Inrobics  están certificados y cumplen con las \\nnormativas electromagnéticas actuales.  \\nPara más información, por favor revise las instrucciones de seguridad de los \\nmanuales proporcionados para el robot, el sensor 3D, el sensor cardíaco y el \\nrouter Wi -Fi.', metadata={'source': 'Resources/Manual_Usuario.pdf', 'page': 6}),\n",
       " Document(page_content='Welcome to the next revolution in Rehab  \\n \\n8 \\n \\n2.2.2. Conexión eléctrica  \\n \\n PELIGRO  \\nMala conexión eléctrica - SHOCK ELÉCTRICO - \\nELECTROCUCIÓN  \\nCompruebe que el voltaje suministrado es el mismo que el \\nmostrado en el dispositivo.  \\nCompruebe el cable proporcionado antes de cada uso.  \\nNunca enchufe o desenchufe el dispositivo hacia/desde un \\nenchufe con las manos húmedas.  \\n \\nPara más información, por favor revise las instrucciones de seguridad de los \\nmanuales proporcionados para el robot, el sensor 3D, el sensor cardíaco y el \\nrouter Wi -Fi. \\n \\n2.2.3. Entorno.  \\nPara un mayor aprovechamiento y óptimo funcionamiento de la plataforma, la \\nubicación recomendada por Inrobics  para los  accesorios es la siguiente:', metadata={'source': 'Resources/Manual_Usuario.pdf', 'page': 7}),\n",
       " Document(page_content='Welcome to the next revolution in Rehab  \\n \\n9 \\n \\nEl paciente se situará a una distancia de 1.5 m con respecto al robot y \\naproximadamente a 2 m del sensor 3D. El sensor se podrá regular según la altura \\ndel paciente. El robot debe estar en todo momento sobre una superficie lisa y \\na nivel del suelo, sin fuentes de calor o líquido cercanas. No situar nunca el \\nrobot sobre una mesa para evitar que se caiga a distinto nivel.  \\nEl sensor 3D estará ubicado a una altura de entre 70 y 80 cm del suelo, sobre \\nuna superficie lisa y estable.  \\nPara más información, por favor revise las instrucciones de seguridad de los \\nmanuales proporcionados para el robot, el sensor 3D, el sensor cardíaco y el \\nrouter Wi -Fi. \\nCon la finalidad de optimizar el funcionamiento de la plataforma se recomienda \\nla puesta en marcha de esta coincidiendo con la apertura del servicio de \\nrehabilitación. El robot puede realizar una sesión completa sin necesitar estar \\nconectado al cable de co rriente, sin embargo, para asegurar el nivel de batería \\nóptimo es recomendable que en los periodos de descanso o cuando no se esté \\nutilizando se conecte a la corriente eléctrica para su carga.  \\n2.2.4. Condiciones de almacenamiento  \\nPara más información, por favor revise las instrucciones de seguridad de los \\nmanuales proporcionados para el robot, el sensor 3D, el sensor cardíaco y el \\nrouter Wi -Fi. \\n2.3. Mal funcionamiento  \\nEn caso de mal funcionamiento:  \\n● Pare inmediatamente de utilizar los dispositivos.  \\n● Intente identificar o eliminar la causa usando la descripción en este \\ndocumento (Sección 8).  \\n● Si no es posible identificar o eliminar la causa usando este documento, \\napague los dispositivos y contacte con e l servicio técnico de Inrobics  \\n(ver Sección 1 1 al final de este  documento).', metadata={'source': 'Resources/Manual_Usuario.pdf', 'page': 8}),\n",
       " Document(page_content='Welcome to the next revolution in Rehab  \\n \\n10 \\n2.4. Contraindicaciones  \\n \\nEl clínico responsable de la utilización del producto debe evitar su uso con \\nusuarios que presenten:  \\n- Lesiones en la piel (quemaduras, heridas, etc.) que se puedan ver \\nperjudicadas por el roce de la vestimenta.  \\n- Fracturas óseas no consolidadas.  \\n- Problemas circulatorios graves.  \\n- Cualquier otra causa que pueda considerarse  por parte de  la persona \\nresponsable .', metadata={'source': 'Resources/Manual_Usuario.pdf', 'page': 9}),\n",
       " Document(page_content='Welcome to the next revolution in Rehab  \\n \\n11 \\n \\n3. Instalación - Desinstalación  \\n3.1. Procedimiento de instalación  \\n3.1.1. Obtener todos los elementos necesarios  \\n● Lea la guía de seguridad proporcionada del robot y del sensor 3D y las \\nsecciones previas de este documento.  \\n● Desempaquete el robot, el sensor 3D, el sensor cardíaco (si se le ha \\nproporcionado uno) y el router Wi -Fi proporcionado.  \\n● Tome una tablet  o un smartphone  con Android 8  o superior (desde ahora \\n“dispositivo Android”).  \\n● Instale la aplicación  de Inrobics  en su dispositivo Android  usando la \\nGoogle Play Store . \\n● Ponga el robot en un lugar seguro sobre el suelo y enchufe su cable de \\ncorriente para cargar las baterías hasta que la luz del cargador sea verde.  \\n3.1.2. Iniciar el robot Robic y el sensor  \\n● Ponga el robot Robic  en un lugar seguro en el suelo y enciéndalo \\npresionando el botón  de su pecho una vez . El robot estará disponible \\ncuando las luces en sus orejas paren de parpadear  o cuando emita “ Ognak \\nGnuk !”. \\n● Enchufe el cable de energía al sensor 3D y póngalo en una posición segura \\npara que detecte el cuerpo entero con los brazos extendidos hacia el \\ncielo, tal como se explica en la Sección 2.2.3.  \\n3.1.3. Configurar la conexión  \\n● Este paso se enfoca en conectar el robot Robic, el sensor 3D y el \\ndispositivo Android  usando la misma conexión Wi-Fi para comunicarse \\nentre ellos. También se configurará el sensor cardíaco Bluetooth.  \\n \\n● Usando el router Wi -Fi proporcionado :', metadata={'source': 'Resources/Manual_Usuario.pdf', 'page': 10}),\n",
       " Document(page_content='Welcome to the next revolution in Rehab  \\n \\n12 \\n \\n○ Solo conecte su dispositivo Android  a la red Wi-Fi cuyo nombre \\ncoincide con el de la parte trasera del router  proporcionado. Use \\nla contraseña indicada ahí.  \\n○ Utilice la red Wi-Fi de Inrobics  únicamente para conectar la \\naplicación de su dispositivo Android.  \\n● Inicie su sensor cardíaco y emparéjelo por Bluetooth con su dispositivo \\nAndroid  tal como se indica en el manual del usuario.  \\n● Inicie la aplicación de Inrobics y entre en su cuenta de usuario. Pulse \\nsobre la ficha de un paciente (no sobre su foto) para iniciar una sesión \\ncon él. Cree un nuevo paciente si aún no tiene ninguno en la lista.  \\n3.2. Procedimiento de desinstalación  \\n● Apague el robot (presionando el botón del pecho  hasta que oiga “Gnuk \\nGnuk! ”). \\n● Desactive todos los cables del robot, el sensor 3D, apague el sensor \\ncardíaco, y el router Wi -Fi proporcionado.  \\n● Guarde todo en sus cajas respectivas.  \\n \\nDesinstale la aplicación de Inrobics  del dispositivo Android .', metadata={'source': 'Resources/Manual_Usuario.pdf', 'page': 11}),\n",
       " Document(page_content='Welcome to the next revolution in Rehab  \\n \\n13 \\n \\n4. Inicio  \\n4.1. Ejecutar una sesión en la clínica  \\nEl software médico  Inrobics  ha sido diseñado  para abordar miembros \\nsuperiores e inferiores , así como aspectos cognitivos . Las actividades que \\ncomponen el catálogo de Inrobics se nutren de actividades terapéuticas  de \\ndiferentes niveles  de dificultad. Estas actividades  terapéuticas son fácilmente \\nconfigurables  y personalizables para que el profesional pueda individualizar  el \\ncaso de uso a cada paciente.  \\nUna sesión de Inrobics se compone de bloques de trabajo formados por los \\nexergames con descansos activos  intercalados  (en caso de que se prescriban). \\nEl tiempo de duración de una sesión con Inrobics es completamente \\nindividualizable a las necesidades del usuario, pudiendo ir desde 10 hasta 25 \\nminutos aproximadamente , o lo considerado por el profesional responsable.   \\nExergames  \\nActualmente la plataforma cuenta con 12 actividades . Sus características son \\nlas siguientes:  \\n● EVAL: Actividad para monitorizar el rango  de movimiento  articular  de \\nmiembros superiores del usuario al realizar diferentes movimientos que \\nle propone Robic.  \\n● WARM UP: El robot  Robic propone unas secuencias de movimientos que \\nrealiza con la persona de manera simultánea. Puede utilizarse  como un \\ncalentamiento previo al resto de la sesión.  \\n● DYNAMIC: Robic propone secuencias de  ejercicios físicos  dirigidas al \\nentrenamiento  del rango de movimiento activo y aspectos funcionales de \\nmovilidad . Se trabaja  mediante la repetición de secuencias de \\nmovimientos.  \\n● AVDS: Robic representa la realización de diferentes Actividades de la \\nVida Diaria (AVDs) , como alimentación, aseo o compra, a través de sus', metadata={'source': 'Resources/Manual_Usuario.pdf', 'page': 12}),\n",
       " Document(page_content='Welcome to the next revolution in Rehab  \\n \\n14 \\nmovimientos , y ofrece guía verbal para que la persona las realice junto \\na él.  \\n● SYMBOLIC: Ejercicio  con desafíos a nivel motor y cognitivo, como  \\natención y memoria , en el que se presentan una serie de movimientos \\nsencillos que luego Robic nombrará para que  sean ejecutados por el \\nusuario.  \\n \\n● DANCE: Ejercicio de baile  en el que se enseña una coreografía con una \\ncanción , añadiendo pasos de forma progresiva. Finalmente se realiza la \\ncoreografía completa.  \\n● STATUES: Robic propone al usuario realizar diferentes posturas y \\nmantenerlas durante un tiempo determinado previamente por el clínico \\nal configurar la sesió n. Puede presentarse  para apoyar el trabajo a nivel \\npropioceptivo, de movimiento activo contra gravedad y resistencia, o \\natencional.   \\n● ROBIC SAYS: Actividad para apoyar el trabajo del esquema corporal, \\npropiocepción o atención , en la que Robic pide al usuario que se toque \\ndiferentes partes del cuerpo.  \\n● ROBIC LIES: Robic pide al usuario realizar diferentes acciones a la vez \\nque él. El usuario ha de estar atento porque en algunas ocasiones, la \\nacción que le pida realizar Robic , no coincidirá con el movimiento que \\nrealiza. \\n● DON´T STOP:  Actividad para  apoyar el trabajo de  movilidad  articular, \\npropiocepción, atención o memoria . Robic  enseñará al usuario una serie \\nde movimientos que ha de repetir durante un tiempo determinado \\npreviamente por el clínico al configurar la sesión.  \\n● COLORS:  Robic enseña una secuencia de colores con sus ojos, solicitando \\nal usuario recordar y repetir con la aplicación Tablet esta misma serie.  \\nEn cada turno, la secuencia va aumentando hasta alcanzar un máximo de \\ncolores, o hasta que el usuario falle tres veces . La actividad  se puede \\nutilizar para apoyar el trabajo de funciones cognitivas , como atención o \\nmemoria.', metadata={'source': 'Resources/Manual_Usuario.pdf', 'page': 13}),\n",
       " Document(page_content='Welcome to the next revolution in Rehab  \\n \\n15 \\n● WIZARD: Actividad para teleoperar a Robic. Una vez iniciada la sesión, \\ndurante el transcurso de la actividad, s e pueden seleccionar cuatro \\ncategorías de rutinas y poses que se pueden ejecutar: Físico, que incluye \\nlas rutinas del juego Dynamic y poses de yoga ; Actividades de la Vida \\nDiaria; Symbolic ; y Gestos bimodales. Durante el mismo, se podrá \\ncomunicar/ hablar a través de Robic y ejecutar las rutinas elegidas.  \\n● GAPS: Ejercicio en el que Robic verbaliza una frase incompleta , el \\nusuario tiene que seleccionar la palabra correcta para dicho espacio.  A \\ntravés de la aplicación Tablet, se presenta  en formato texto la frase \\nverbalizada y  varias opciones  con palabras para seleccionar la adecuada. \\nEste ejercicio se puede utilizar para apoyar el trabajo de funciones \\ncognitivas, donde se requieren procesos lingüísticos de comprensión, \\nlectura o discriminación.  \\n \\nSecuencia de inicio:  \\n \\n● Prepare el entorno con el robot y el sensor 3D tal como se indica en la \\nSección 2.2.3.  \\n● Enchufe el router WI -FI, el robot y el sensor 3D a la corriente eléctrica . \\n● Ponga el robot en un lugar seguro en el suelo y enciéndalo presionando \\nel botón en su pecho una vez. El robot estará listo cuando las luces en \\nsus orejas terminen de parpadear  o emita “ Ognak Gnuk !”. \\n● Encienda el sensor cardíaco y colóquelo en un brazo del paciente, tal \\ncomo se indica en su propio manual.  \\n● Inicie la aplicación  de Inrobics  en el dispositivo Android  y entre con el \\nnombre de usuario y contraseña que Inrobics  o su centro clínico le haya \\nproporcionado.  \\n● Registre a un nuevo paciente usando el botón “+” de abajo a la derecha, \\no seleccione el paciente deseado en la lista si lo tiene ya registrado.  \\n● Pulse el botón “Configurar sesión” y cargue las actividades de una sesión \\nanterior o diseñe una nueva.  \\n● Confirme que la sesión es segura para el paciente en cuestión.', metadata={'source': 'Resources/Manual_Usuario.pdf', 'page': 14}),\n",
       " Document(page_content='● Inicie la aplicación  de Inrobics  en el dispositivo Android  y entre con el \\nnombre de usuario y contraseña que Inrobics  o su centro clínico le haya \\nproporcionado.  \\n● Registre a un nuevo paciente usando el botón “+” de abajo a la derecha, \\no seleccione el paciente deseado en la lista si lo tiene ya registrado.  \\n● Pulse el botón “Configurar sesión” y cargue las actividades de una sesión \\nanterior o diseñe una nueva.  \\n● Confirme que la sesión es segura para el paciente en cuestión.  \\n● Presione el botón “Iniciar” para empezar la sesión.', metadata={'source': 'Resources/Manual_Usuario.pdf', 'page': 14}),\n",
       " Document(page_content='Welcome to the next revolution in Rehab  \\n \\n16 \\n● Vaya a la pestaña “Biometría” y pulse en “Activar sensor de FC”. Si se le \\npregunta que necesita aceptar un permiso de localización, acéptelo. Este \\npermiso es un requisito del sistema operativo Android para poder \\nlocalizar su sensor cardíaco Bluetooth.  \\n● El robot dirigirá automáticamente la sesión con las actividades y \\nejercicios que ha configurado.  \\n \\n● Mientras la sesión se está ejecutando, puede cambiar la vista del juego \\npara consultar el rango de movimiento ( Range of Movement  o ROM) con \\nun esqueleto 3D en directo en la pestaña “Cuerpo” . \\n● Cuando el robot termine la ejecución, apáguelo presionando el botón del \\npecho hasta que escuche “ Gnuk Gnuk! ” y desenchufe  el sensor 3D.  \\n● Enchufe el cable de corriente en el robot para recargar sus baterías. No \\nolvide desenchufar el cable cuando aparezca una luz verde en el \\ncargador.', metadata={'source': 'Resources/Manual_Usuario.pdf', 'page': 15}),\n",
       " Document(page_content='Welcome to the next revolution in Rehab  \\n \\n17 \\n \\n5. Funciones avanzadas  \\n5.1. Inicio de sesión  \\n \\n \\n \\n \\n \\n \\n \\n \\n \\n \\n \\n \\n \\n \\n \\n \\n \\n \\n \\n \\n \\n \\n \\n \\n \\n \\n \\n \\n \\n \\n \\n \\n \\n \\n \\n \\n \\n \\n \\n \\n \\n \\n \\nEn esta vista el clínico deberá introducir el nombre de usuario y la contraseña \\npara que le dé acceso a su centro y su lista de pacientes.  \\nTambién podrá pulsar sobre “Aviso legal” o “Política de privacidad” para leer \\nlos correspondientes documentos legales.', metadata={'source': 'Resources/Manual_Usuario.pdf', 'page': 16}),\n",
       " Document(page_content='Welcome to the next revolution in Rehab  \\n \\n18 \\n \\n \\nTras iniciar la sesión correctamente se mostrará una tarjeta con el número de \\nserie y las indicaciones del marcado CE del producto sanitario.   \\n \\n \\n \\n \\n \\n \\n \\n \\n \\n \\n \\n5.2. Listado de pacientes  \\nMuestra los pacientes asociados con el terapeuta que ha iniciado la sesión. \\nAquellos que no hayan hecho una sesión en más de 15 días se mostrarán en gris.  \\n \\nEl campo de texto con la lupa es un filtro que limita los resultados a aquellos \\nque contengan el texto introducido en el nombre del paciente.  \\n \\nHaciendo una pulsación larga sobre uno de los pacientes podrá consultarlo y \\neditarlo, eliminarlo o reordenar la lista según distintos criterios.', metadata={'source': 'Resources/Manual_Usuario.pdf', 'page': 17}),\n",
       " Document(page_content='Welcome to the next revolution in Rehab  \\n \\n19 \\n \\n \\n \\n \\n \\n \\n \\n \\n \\n \\n \\n \\n \\n \\n \\n \\n \\n \\n \\n \\n \\n \\n \\n \\nDesde esta vista podrá hacer principalmente dos cosas:  \\n1. Añadir nuevos pacientes pulsando el botón “+”.  \\n2. Pulsando en el nombre podrá configurar una nueva sesión e iniciarla.  \\n3. Pulsando en la foto con el símbolo de la “i” en la esquina inferior \\nizquierda se podrá acceder a una información más detallada del mismo, \\nasí como los resultados de las sesiones realizadas.', metadata={'source': 'Resources/Manual_Usuario.pdf', 'page': 18}),\n",
       " Document(page_content='Welcome to the next revolution in Rehab  \\n \\n20 \\n \\n5.3. Configuración del paciente y plan de terapia  \\n \\n \\n \\n \\n \\n \\n \\n \\n \\n \\n \\n \\n \\n \\n \\n \\n \\n \\n \\n \\n \\n \\n \\n \\n \\nLa pestaña RESULTADOS muestra un resumen de todas las sesiones realizadas, \\ny a continuación un listado más detallado de las sesiones recientes.  \\nLa pestaña PERSONAL permite añadir o modificar datos personales del paciente, \\nasí como de su tutor o persona autorizada.  \\nLa pestaña CLÍNICO facilita la configuración del plan de terapia describiendo la \\npatología, los detalles clínicos, el tipo de terapias que el paciente realiza \\ndurante la semana y los productos de apoyo que precisa.  \\n \\nDentro de la pestaña RESULTADOS, el clínico podrá consultar con detalle la \\ninformación obtenida en cada sesión específica realizado por el usuario, \\nseleccionándola en el listado.', metadata={'source': 'Resources/Manual_Usuario.pdf', 'page': 19}),\n",
       " Document(page_content='Welcome to the next revolution in Rehab  \\n \\n21 \\n \\n \\n \\n \\n \\n \\n \\n \\n \\n \\n \\n \\n \\n \\n \\n \\n \\n \\n \\n \\n \\n \\n \\n \\n \\n \\n \\n \\n \\n \\n \\n \\n \\n \\n \\n \\nEn la pestaña RESUMEN, se podrá encontrar la información básica de los \\nresultados de la sesión, la tasa de acierto, la duración y los ejercicios realizados. \\nAdemás, se podrán consultar los resultados de las métricas recogidas por la \\nplataforma, como el tiempo de reacción, la carga articular y el esfuerzo y el \\nrango de movimiento.', metadata={'source': 'Resources/Manual_Usuario.pdf', 'page': 20}),\n",
       " Document(page_content='Welcome to the next revolution in Rehab  \\n \\n22 \\n \\n \\n \\n \\n \\n \\n \\n \\n \\n \\n \\n \\n \\n \\n \\n \\n \\n \\n \\n \\n \\n \\n \\n \\n \\n \\n \\n \\n \\n \\n \\n \\nEn la pestaña ACTIVIDADES se muestra el esqueleto recogido del paciente \\ndurante la ejecución de la sesión para cada una de las rutinas ejecutadas.  \\nEn la pestaña BIOMETRÍA se podrá consultar la evolución de la frecuencia \\ncardíaca a lo largo de la sesión.', metadata={'source': 'Resources/Manual_Usuario.pdf', 'page': 21}),\n",
       " Document(page_content='Welcome to the next revolution in Rehab  \\n \\n23 \\n \\n5.4. Configuración de la sesi ón \\n \\n \\n \\n \\n \\n \\n \\n \\n \\n \\n \\n \\n \\n \\n \\n \\n \\n \\n \\n \\n \\n \\n \\n \\nEn la pestaña RAZ. CLÍNICO se podrán establecer filtros en base a diferentes \\naspectos: rango articular de hombros, capacidad de ejecución del paciente, \\ncomplejidad de las actividades, tiempo de ejecución y frecuencia de descansos.  \\nEn el apartado ACTIVIDADES permitirá planificar el número de actividades a \\nrealizar por el paciente, así como cargar las actividades realizadas en la última \\nsesión, crear y cargar sesiones configuraras en plantillas, compartidas entre \\ntodos los pacientes.      \\nTras planificar el número de actividades se podrá configurar el tipo de actividad \\na realizar. Al pulsar el botón SELECCIONAR o la imagen de la izquierda, \\naparecerán las actividades con  las que cuenta la plataforma en la actualidad.', metadata={'source': 'Resources/Manual_Usuario.pdf', 'page': 22}),\n",
       " Document(page_content='Welcome to the next revolution in Rehab  \\n \\n24 \\n \\n \\n \\n \\n \\n \\n \\n \\n \\n \\n \\n \\n \\n \\n \\n \\n \\n \\n \\n \\n \\n \\n \\n \\n \\n \\nAl pulsar sobre el icono de la actividad, ésta se añadirá a la lista de actividades. \\nTambién se podrá utilizar el botón AÑADIR para continuar seleccionando \\nactividades.  \\nLa actividad podrá eliminarse o cambiar el orden de aparición haciendo una \\npulsación larga sobre cada actividad.  \\nUna vez seleccionadas las actividades se procederá a configurar cada una de \\nellas utilizando el botón CONFIGURAR.', metadata={'source': 'Resources/Manual_Usuario.pdf', 'page': 23}),\n",
       " Document(page_content='Welcome to the next revolution in Rehab  \\n \\n25 \\n \\n \\n \\n \\n \\n \\n \\n \\n \\n \\n \\n \\n \\n \\n \\n \\n \\n \\n \\n \\n \\n \\n \\n \\n \\n \\n \\n \\n \\n \\nA continuación, se mostrarán las rutinas disponibles y se podrán seleccionar \\ntodas aquellas que necesitemos, así como indicar el número de repeticiones a \\nrealizar para cada rutina. Una vez seleccionadas, se podrán guardar o eliminar.  \\nAl pulsar sobre el botón VER podremos visualizar las rutinas que hemos \\nseleccionado.  \\nEl último paso para poder ejecutar la sesión será pulsar sobre la pestaña \\nVERIFICAR. En esta pestaña, el clínico confirmará que la sesión programada es \\nsegura para el paciente. Además, se podrá activar/inactivar el chequeo del \\nsensor, las narrativas y la p resentación inicial.', metadata={'source': 'Resources/Manual_Usuario.pdf', 'page': 24}),\n",
       " Document(page_content='Welcome to the next revolution in Rehab  \\n \\n26 \\n \\n \\n \\n \\n \\n \\n \\n \\n \\n \\n \\nAl confirmar que la sesión es segura para el usuario se pulsará el botón de \\n¡VERIFICAR! y a continuación se podrá iniciar la sesión.  \\n Antes de ello, se pueden configurar algunos parámetros adicionales:  \\n- El chequeo automático de pose, que indica si se usa o no el sensor para \\nverificar las rutinas. Si está desacivado se darán las rutinas por correctas.  \\n- Las introducciones narrativas, que el robot da al inicio de la sesión, \\npudiendo desactivarse.  \\n- La primera presentación especial, dialogo que dice el robot cuando \\nconoce al usuario por primera vez.  \\n- El final de la sesión, pudiendo especificar determinado baile o \\ndesactivarlo .', metadata={'source': 'Resources/Manual_Usuario.pdf', 'page': 25}),\n",
       " Document(page_content='Welcome to the next revolution in Rehab  \\n \\n27 \\n \\n5.5. Ejecución de la sesión  \\n \\n \\n \\n \\n \\n \\n \\n \\n \\n \\n \\n \\n \\n \\n \\n \\n \\n \\n \\n \\n \\n \\n \\n \\n \\n \\nEn la pestaña SESIÓN se podrá acceder a la configuración de la sesión y a \\niniciarla una vez esté configurada y validada. Tras iniciarla, los botones irán \\ncambiando para permitir pausar, reanudar y cancelar la sesión, así como para \\nguardar los resultados de  la misma o descartarlos. El logo de Inrobics  cambiará \\nde color según el estado de la sesión.  \\n● Gris: sesión no configurada . \\n● Amarillo: sesión configurada, pero arquitectura no completamente \\nconectada . \\n● Verde: configurada y listo para empezar . \\n● Azul: ejecutando.  \\nTambién se indicará un mensaje para corregir los problemas detectados y poder \\niniciar una nueva sesión.', metadata={'source': 'Resources/Manual_Usuario.pdf', 'page': 26}),\n",
       " Document(page_content='Welcome to the next revolution in Rehab  \\n \\n28 \\nEn la pestaña CUERPO se podrá ver una representación 3D del esqueleto del \\npaciente detectado por el sensor, así como todos los ángulos clínicos detectados \\nen ese momento.  \\nLa pestaña BIOMETRÍA permitirá activar el sensor de frecuencia cardiaca para \\nregistrar la evolución del pulso del paciente a lo largo de la sesión.  \\nExiste la posibilidad de generar un ranking con los resultados de los usuarios que \\nrealicen las sesiones. Estos datos aparecerán pulsando en la pestaña RANKING.  \\nEn la pestaña JUEGO se podrá interactuar con el robot durante la sesión, en los \\njuegos que requieren la aplicación. La interfaz mostrada en la pestaña cambiará \\na lo largo de la ejecución dependiendo la situación.  \\nPulsando en el botón AJUSTES, abajo a la derecha, se podrán acceder a la \\nventana de control del robot. Desde este se podrá modificar diferentes \\nparámetros (volumen, música, descansos, velocidad de movimiento, velocidad \\ndel habla y tiempo de respuesta), ade más de realizar distintas acciones, como \\nhablar, saludar o sentarse.', metadata={'source': 'Resources/Manual_Usuario.pdf', 'page': 27}),\n",
       " Document(page_content='Welcome to the next revolution in Rehab  \\n \\n29 \\n \\n6. Mantenimiento  \\nPara más información, por favor revise las instrucciones de mantenimiento de \\nlos manuales proporcionados para el robot, el sensor 3D, el sensor cardíaco y el \\nrouter Wi -Fi. \\n \\n7. Limpieza y desinfección  \\nPara más información, por favor revise las instrucciones de mantenimiento de \\nlos manuales proporcionados para el robot, el sensor 3D, el sensor cardíaco y el \\nrouter Wi -Fi. \\n \\n8. Solución de problemas. Mensajes \\ntipo “ERROR”  \\nEn caso de que suceda un comportamiento anormal, pare inmediatamente de \\nutilizar los dispositivos.  \\nPara más información, por favor revise las instrucciones de solución de \\nproblemas de los manuales proporcionados para el robot, el sensor 3D, el sensor \\ncardíaco y el router Wi -Fi. \\nSi no es posible localizar o eliminar el problema usando esta sección o si la \\ndisfunción todavía está presente, apague los dispositivos y contacte con el  \\nservicio técnico de Inrobics.', metadata={'source': 'Resources/Manual_Usuario.pdf', 'page': 28}),\n",
       " Document(page_content='Welcome to the next revolution in Rehab  \\n \\n30 \\n \\n PELIGRO  \\nNunca intente reparar usted mismo el robot, el sensor 3D, el \\nsensor cardíaco o el router Wi -Fi', metadata={'source': 'Resources/Manual_Usuario.pdf', 'page': 29}),\n",
       " Document(page_content='Welcome to the next revolution in Rehab  \\n \\n31', metadata={'source': 'Resources/Manual_Usuario.pdf', 'page': 30}),\n",
       " Document(page_content='Welcome to the next revolution in Rehab  \\n \\n32 \\n \\n \\n9.  Símbolos en el etiquetado', metadata={'source': 'Resources/Manual_Usuario.pdf', 'page': 31}),\n",
       " Document(page_content='Welcome to the next revolution in Rehab  \\n \\n33 \\n \\n10. Bibliografía  de interés  \\n \\n⮚ Autonomous Socially Assistive Robotics in Pediatric Clinical Practice : José Carlos Pulido, \\nPh. D. Thesis, Universidad Carlos III de Madrid (UC3M), Leganés (Spain), February 2020. \\nPublic disclosure on July 2021.  \\n⮚ Multi -Layered Architectures for Autonomous Systems : José Carlos González, Ph. D. \\nThesis, Universidad Carlos III de Madrid (UC3M), Leganés (Spain), March 2020. Public \\ndisclosure on August 2021  \\n⮚ Design of a Robotic as a Service Platform to Perform Rehabilitation Therapies:  Adrián Gallego, José \\nCarlos Pulido, José Carlos González and Fernando Fernández, in proceedings of the 20th Workshop of \\nPhysical Agents (WAF), ROBOT conference, pp. 681 -692, Springer, Porto (Portugal), November 2019, \\ndoi:10.1007/978 -3-030-36150 -1_56  \\n⮚ A Socially Assistive Robotic Platform for Upper -Limb Rehabilitation: A Longitudinal Study With \\nPediatric Patients: JC. Pulido, C. Suarez -Mejias, JC. Gonzalez, A. Dueñas, P. Ferrand, M.E. Martinez, \\nC. Echevarria, P. Infante -Cossio, C. Luis Parra and F. Fernandez. IEEE Robotics & Automation Magazine \\n(IEEE RAM) , vol. 1, pp. 1 -16, IEEE April 2019, JCR 2017 impact 3.573 – Q1, \\ndoi:10.1109/MRA.2019.2905231.  \\n⮚ Developing a Robot -Guided Interactive Simon Game for Physical and Cognitive Training: Mısra \\nTurp, José Carlos González, José Carlos Pulido and Fernando Fernández. International Journal of \\nHumanoid Robotics (IJHR) , vol. 19(1), p. 195003, World Scientific, February 2019, JCR 2017 impact \\n0.908 - Q4, doi:10.1142/S0219843619500038.  \\n⮚ Evaluating the Child –Robot Interaction of the NAOTherapist Platform in Pediatric Rehabilitation: \\nJosé Carlos Pulido, José Carlos González, Cristina Suárez -Mejías, Antonio Bandera, Pablo Bustos and \\nFernando Fernández. International Journal of Social Robotics (IJSR) , vol. 9(3), pp. 343 –358, Springer, \\nJune 2017, JCR 2017 impact 2.003 - Q3, doi:10.1007/s12369 -017-0402-2.', metadata={'source': 'Resources/Manual_Usuario.pdf', 'page': 32}),\n",
       " Document(page_content='0.908 - Q4, doi:10.1142/S0219843619500038.  \\n⮚ Evaluating the Child –Robot Interaction of the NAOTherapist Platform in Pediatric Rehabilitation: \\nJosé Carlos Pulido, José Carlos González, Cristina Suárez -Mejías, Antonio Bandera, Pablo Bustos and \\nFernando Fernández. International Journal of Social Robotics (IJSR) , vol. 9(3), pp. 343 –358, Springer, \\nJune 2017, JCR 2017 impact 2.003 - Q3, doi:10.1007/s12369 -017-0402-2.  \\n⮚ A three -layer planning architecture for the autonomous control of rehabilitation therapies based \\non social robots: José Carlos González, José Carlos Pulido and Fernando Fernández. Cognitive Systems \\nResearch (CSR) , vol. 43, pp. 232 -249, Elsevier, June 2017, JCR 2017 impact 1.425 - Q3, \\ndoi:10.1016/j.cogsys.2016.09.003.  \\n⮚ Enhancing a Robotic Rehabilitation Model for Hand -Arm Bimanual Intensive Therapy: Enrique \\nGarcía Estévez, Irene Díaz Portales, José Carlos Pulido, Raquel Fuentetaja and Fernando Fernandez, \\non the 3rd Iberian Robotics Conference, (ROBOT), Rehabilitation and Assistive Robotics special \\nsession , Seville (Spain), November 2017.  \\n⮚ NAOTherapist: Autonomous Assistance of Physical Rehabilitation Therapies with a Social \\nHumanoid Robot: José Carlos Pulido, José Carlos González and Fernando Fernández, in proceedings \\nof the International Workshop on Assistive & Rehabilitation Technology (IWART), pp. 15 -16, Elche \\n(Spain), December 2016.  \\n⮚ Playing with Robots: An Interactive Simon Game : Mısra Turp, José Carlos Pulido, José Carlos \\nGonzález, Fernando Fernández, in  proceedings of the Workshop on Social Robotics and Human -Robot \\nInteraction (RSIM) , CAEPIA 2015  Albacete (Spain), 2015.  \\n⮚ Therapy Monitoring and Patient Evaluation with Social Robots : Alejandro Martín, José Carlos \\nGonzález, José Carlos Pulido, Ángel García -Olaya, Fernando Fernández and Cristina Suárez -Mejías,', metadata={'source': 'Resources/Manual_Usuario.pdf', 'page': 32}),\n",
       " Document(page_content='Welcome to the next revolution in Rehab  \\n \\n34 \\nin proceedings of the 3rd Workshop on ICTs for improving Patients Rehabilitation Research \\nTechniques , REHAB 2015  Lisbon (Portugal), 2015.  \\n⮚ Planning, Execution and Monitoring of Physical Rehabilitation Therapies with a Robotic \\nArchitecture : José Carlos González, José Carlos Pulido, Fernando Fernández and Cristina Suárez -\\nMejías, in  proceedings of the 26th Medical Informatics Europe conference (MIE) , Studies in Health \\nTechnology and Informatics , vol. 210, pp. 339 -343, Madrid (Spain), 2015.  \\n⮚ Goal-directed Generation of Exercise Sets for Upper -Limb Rehabilitation : José Carlos Pulido, José \\nCarlos González, Arturo González -Ferrer, Javier García, Fernando Fernández, Antonio Bandera, Pablo \\nBustos and Cristina Suárez, in  proceedings of the 5th Workshop on Knowledge Engineering for Planning \\nand Scheduling (KEPS) , ICAPS conference, pp. 38 -45, Portsmouth (New Hampshire, USA), 2014.', metadata={'source': 'Resources/Manual_Usuario.pdf', 'page': 33}),\n",
       " Document(page_content='Welcome to the next revolution in Rehab  \\n \\n35 \\n \\n11. Contacto del fabricante  \\n \\n \\nINROBICS SOCIAL ROBOTICS, S.L.L.  \\nAv. Gregorio Peces Barba, 1 - 28919 Leganés, Madrid  \\nESPAÑA  \\n(+34)  630 423 231 \\ninfo@inrobics.com  \\nsupport@inrobics.com  \\n \\nEdición 6.0 \\n 18/12/23', metadata={'source': 'Resources/Manual_Usuario.pdf', 'page': 34})]"
      ]
     },
     "execution_count": 18,
     "metadata": {},
     "output_type": "execute_result"
    }
   ],
   "source": [
    "data"
   ]
  }
 ],
 "metadata": {
  "kernelspec": {
   "display_name": "Python 3 (ipykernel)",
   "language": "python",
   "name": "python3"
  },
  "language_info": {
   "codemirror_mode": {
    "name": "ipython",
    "version": 3
   },
   "file_extension": ".py",
   "mimetype": "text/x-python",
   "name": "python",
   "nbconvert_exporter": "python",
   "pygments_lexer": "ipython3",
   "version": "3.8.10"
  }
 },
 "nbformat": 4,
 "nbformat_minor": 5
}
