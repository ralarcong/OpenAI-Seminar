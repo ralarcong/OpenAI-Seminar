{
 "cells": [
  {
   "cell_type": "code",
   "execution_count": 1,
   "id": "6401accb",
   "metadata": {},
   "outputs": [],
   "source": [
    "from openai import OpenAI\n",
    "import config\n",
    "import json\n",
    "import requests"
   ]
  },
  {
   "cell_type": "code",
   "execution_count": 2,
   "id": "aaa369f4",
   "metadata": {},
   "outputs": [],
   "source": [
    "client = OpenAI(\n",
    "api_key=config.OPENAI_API_KEY,\n",
    ")"
   ]
  },
  {
   "cell_type": "code",
   "execution_count": 4,
   "id": "27fdd081",
   "metadata": {},
   "outputs": [],
   "source": [
    "products=\"\"\"\n",
    "1. Producto: 4k television LG\n",
    "    Categoría: Televisión\n",
    "    Manufacturer: LG\n",
    "    Price: 500\n",
    "\n",
    "2. Producto: 4k television Samsung\n",
    "    Categoría: Televisión\n",
    "    Manufacturer: Samsung\n",
    "    Price: 1000\n",
    "\n",
    "3. Producto: Xiaomi Mi 13\n",
    "    Categoría: Celular\n",
    "    Manufacturer: Xiaomi\n",
    "    Price: 900\n",
    "\n",
    "4. Producto: Samsung Galaxy X\n",
    "    Categoría: Celular\n",
    "    Manufacturer: Samsung\n",
    "    Price: 1000\n",
    "\n",
    "5. Producto: Xiaomi Tab\n",
    "    Categoría: Tablet\n",
    "    Manufacturer: Samsung\n",
    "    Price: 300\n",
    "\n",
    "6. Producto: Samsung Galaxy Tab\n",
    "    Categoría: Tablet\n",
    "    Manufacturer: Samsung\n",
    "    Price: 500\n",
    "\"\"\"\n",
    "\n",
    "tab=\"\"\"\n",
    "1. acción: Saludar a alguien\n",
    "    Comando: [Hola mundo]\n",
    "\n",
    "2. acción: Correr o trotar\n",
    "    Comando: [running_boy]\n",
    "\"\"\"\n",
    "\n",
    "\n",
    "delimiter = \"####\"\n",
    "system_message = f\"\"\"\n",
    "Eres un bot muy cordial, dispuesto a responder todas las solicitudes que recibas.\n",
    "\n",
    "Siga estos pasos para responder a las consultas de los usuarios de la manera más amable posible.\n",
    "La consulta del usuario se delimitará con cuatro símbolos de hashtag, es decir, {delimiter}. La respuesta debe tener una longitud máxima de 20 palabras.\n",
    "\n",
    "Paso 1:{delimiter} Primero debes identificar si el usuario está preguntando sobre un producto o productos.\n",
    "\n",
    "Paso 2:{delimiter} Si el usuario pregunta por productos específicos, identifique si los productos están \\\n",
    "en la siguiente lista.\n",
    "Todos los productos disponibles: \n",
    "{products}\n",
    "Si el usuario quiere accionar un comando específico, búscalo en la siguiente lista:{tab}\n",
    "Si el usuario pregunta por productos en general, solo menciona los nombres de los productos y evita datos adicionales.\n",
    "\n",
    "Paso 3:{delimiter} Si el mensaje contiene productos \\\n",
    "de la lista anterior, enumere las suposiciones que el usuario \\\n",
    "en su mensaje \\\n",
    "por ejemplo, que la garantía del producto X es más larga que el producto Y, o que el producto Z tiene un rating mayor a \\\n",
    "4 puntos.\n",
    "\n",
    "Si el mensaje contiene un comando, identificarlo junto con su descripción.\n",
    "\n",
    "Paso 4:{delimiter}:Si hay un comando de pestaña identificado concatena en tu mensaje habitual, el comando correspondiente.\n",
    "\n",
    "Utilice el siguiente formato:\n",
    "Paso 1:{delimiter} <paso 1 razonamiento>\n",
    "Paso 2:{delimiter} <paso 2 razonamiento>\n",
    "Paso 3:{delimiter} <paso 3 razonamiento>\n",
    "Paso 4:{delimiter} <paso 4 razonamiento>\n",
    "La respuesta debe estar separada de los comandos por el delimitador \"$$\".\n",
    "Respuesta al usuario:{delimiter} <respuesta al cliente {\"$$\"} comandos>\n",
    "En caso no se encuentren comandos para la consulta, la respuesta debe tener el formato de:\n",
    "Respuesta al usuario:{delimiter} <respuesta al cliente {\"$$\"} Null>\n",
    "\n",
    "\n",
    "Asegúrese de incluir el delimitador {delimiter} para separar cada paso y que la respuesta al usuario sea de maximo de 20 palabras.\n",
    "\n",
    "Recuerda que siempre debes dar tus respuesta en lenguaje español\n",
    "\"\"\""
   ]
  },
  {
   "cell_type": "code",
   "execution_count": 5,
   "metadata": {},
   "outputs": [],
   "source": [
    "def query_chatgpt(messages):\n",
    "    '''Send messages to OpenAI's Chat GPT model and get a response.'''\n",
    "    #You can change the model name for better performance (gpt-3.5-turbo, gpt-4 or gpt-4-1106-preview)\n",
    "    response = client.chat.completions.create(\n",
    "        model=\"gpt-3.5-turbo-0125\", \n",
    "        messages=messages,\n",
    "    )\n",
    "    response_message = response.choices[0].message.content\n",
    "    return response_message"
   ]
  },
  {
   "cell_type": "code",
   "execution_count": 6,
   "id": "cc1c71bd",
   "metadata": {},
   "outputs": [],
   "source": [
    "messages = [\n",
    "    {\"role\": \"system\", \"content\":system_message}\n",
    "]"
   ]
  },
  {
   "cell_type": "code",
   "execution_count": 7,
   "id": "00e83492",
   "metadata": {},
   "outputs": [],
   "source": [
    "def conversation(prompt):\n",
    "    global messages\n",
    "    messages.append({\"role\": \"user\", \"content\": prompt})\n",
    "    response_message = query_chatgpt(messages)\n",
    "    \n",
    "    #play_audio(text_to_speech(response_message, audio_file), text_speed)\n",
    "    messages.append({\"role\": \"assistant\", \"content\": response_message})\n",
    "    output = ''\n",
    "    #print(messages)\n",
    "    for message in messages:\n",
    "        if message['role'] != 'system':\n",
    "            #output += message['role'] + ': ' + message['content'] + '\\n\\n'\n",
    "            try:\n",
    "                final_reponse= message['content'].split(delimiter)[-1].strip()\n",
    "                output += message['role'] + ': ' + final_reponse + '\\n\\n'\n",
    "            except Exception as e:\n",
    "                print(e)\n",
    "                output = \"Perdón, no entiendo\"\n",
    "    return final_reponse"
   ]
  },
  {
   "cell_type": "code",
   "execution_count": 7,
   "id": "073a717a",
   "metadata": {},
   "outputs": [
    {
     "data": {
      "text/plain": [
       "'¡Hola! ¿En qué puedo ayudarte hoy? $$ Null'"
      ]
     },
     "execution_count": 7,
     "metadata": {},
     "output_type": "execute_result"
    }
   ],
   "source": [
    "conversation(\"hola\")"
   ]
  },
  {
   "cell_type": "code",
   "execution_count": 8,
   "id": "cd715915",
   "metadata": {},
   "outputs": [
    {
     "data": {
      "text/plain": [
       "'¿Te gustaría saber más sobre nuestros productos de tecnología? $$ Null'"
      ]
     },
     "execution_count": 8,
     "metadata": {},
     "output_type": "execute_result"
    }
   ],
   "source": [
    "conversation(\"¿Que me puedes contar?\")"
   ]
  },
  {
   "cell_type": "code",
   "execution_count": 9,
   "id": "13f93732",
   "metadata": {},
   "outputs": [
    {
     "data": {
      "text/plain": [
       "'Tenemos televisores, celulares y tablets en nuestra tienda. $$ Null'"
      ]
     },
     "execution_count": 9,
     "metadata": {},
     "output_type": "execute_result"
    }
   ],
   "source": [
    "conversation(\"Dime tus productos\")"
   ]
  },
  {
   "cell_type": "code",
   "execution_count": 10,
   "id": "918fd462",
   "metadata": {},
   "outputs": [
    {
     "data": {
      "text/plain": [
       "'4k television LG, 4k television Samsung, Xiaomi Mi 13, Samsung Galaxy X, Xiaomi Tab, Samsung Galaxy Tab. $$ Null'"
      ]
     },
     "execution_count": 10,
     "metadata": {},
     "output_type": "execute_result"
    }
   ],
   "source": [
    "conversation(\"Enumera los productos disponibles\")"
   ]
  },
  {
   "cell_type": "code",
   "execution_count": 11,
   "id": "dcb6d5af",
   "metadata": {},
   "outputs": [
    {
     "data": {
      "text/plain": [
       "'Tenemos 4k television LG con un precio de 500 y 4k television Samsung por 1000. $$ Null'"
      ]
     },
     "execution_count": 11,
     "metadata": {},
     "output_type": "execute_result"
    }
   ],
   "source": [
    "conversation(\"Háblame acerca de las televisiones\")"
   ]
  },
  {
   "cell_type": "code",
   "execution_count": 12,
   "id": "a0d370c0",
   "metadata": {},
   "outputs": [
    {
     "data": {
      "text/plain": [
       "'¿Te gustaría más detalles sobre la 4k television LG o la 4k television Samsung? $$ Null'"
      ]
     },
     "execution_count": 12,
     "metadata": {},
     "output_type": "execute_result"
    }
   ],
   "source": [
    "conversation(\"Dame más detalles\")"
   ]
  },
  {
   "cell_type": "code",
   "execution_count": 13,
   "id": "6a2fc4f3",
   "metadata": {},
   "outputs": [
    {
     "data": {
      "text/plain": [
       "'La 4k television LG tiene un precio de 500. $$ Null'"
      ]
     },
     "execution_count": 13,
     "metadata": {},
     "output_type": "execute_result"
    }
   ],
   "source": [
    "conversation(\"4k television LG\")"
   ]
  },
  {
   "cell_type": "code",
   "execution_count": 14,
   "id": "f2c63917",
   "metadata": {},
   "outputs": [
    {
     "data": {
      "text/plain": [
       "'Tenemos Xiaomi Mi 13 y Samsung Galaxy X en celulares. $$ Null'"
      ]
     },
     "execution_count": 14,
     "metadata": {},
     "output_type": "execute_result"
    }
   ],
   "source": [
    "conversation(\"¿Y celulares?\")"
   ]
  },
  {
   "cell_type": "code",
   "execution_count": 8,
   "id": "cde38953",
   "metadata": {},
   "outputs": [
    {
     "data": {
      "text/plain": [
       "'El comando para saludar es [Hola mundo] $$ [Hola mundo]'"
      ]
     },
     "execution_count": 8,
     "metadata": {},
     "output_type": "execute_result"
    }
   ],
   "source": [
    "conversation(\"Ahora dame el comando para saludar\")"
   ]
  },
  {
   "cell_type": "code",
   "execution_count": 9,
   "id": "f3a067a6",
   "metadata": {},
   "outputs": [
    {
     "data": {
      "text/plain": [
       "'El comando para correr es [running_boy] $$ [running_boy]'"
      ]
     },
     "execution_count": 9,
     "metadata": {},
     "output_type": "execute_result"
    }
   ],
   "source": [
    "conversation(\"Ahora quiero correr\")"
   ]
  }
 ],
 "metadata": {
  "kernelspec": {
   "display_name": "Python 3 (ipykernel)",
   "language": "python",
   "name": "python3"
  },
  "language_info": {
   "codemirror_mode": {
    "name": "ipython",
    "version": 3
   },
   "file_extension": ".py",
   "mimetype": "text/x-python",
   "name": "python",
   "nbconvert_exporter": "python",
   "pygments_lexer": "ipython3",
   "version": "3.8.10"
  }
 },
 "nbformat": 4,
 "nbformat_minor": 5
}
