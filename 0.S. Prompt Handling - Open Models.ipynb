{
 "cells": [
  {
   "cell_type": "markdown",
   "id": "2911afd2",
   "metadata": {},
   "source": [
    "### Open Source API list\n",
    "#### https://api.together.xyz/models"
   ]
  },
  {
   "cell_type": "markdown",
   "id": "cc6a3a00",
   "metadata": {},
   "source": [
    "## LLAMA 2 "
   ]
  },
  {
   "cell_type": "markdown",
   "id": "4d6e9eb1",
   "metadata": {},
   "source": [
    "#### BASE"
   ]
  },
  {
   "cell_type": "code",
   "execution_count": 3,
   "id": "1d3f916a",
   "metadata": {},
   "outputs": [],
   "source": [
    "from utils import llama\n",
    "from utils import llama, llama_chat"
   ]
  },
  {
   "cell_type": "code",
   "execution_count": 12,
   "id": "85dabeef",
   "metadata": {},
   "outputs": [],
   "source": [
    "prompts=[]\n",
    "responses=[]\n",
    "system_message = f\"\"\" Eres un bot muy cordial que habla español, dispuesto a responder todas las solicitudes que recibas. Dile al usuario una lista de los 3 mejores productos disponibles en una tienda de electrónica\"\"\""
   ]
  },
  {
   "cell_type": "code",
   "execution_count": null,
   "id": "227c2baf",
   "metadata": {},
   "outputs": [],
   "source": [
    "# LLaMA-2-7B-32K no longer available, use Llama-2-70b-hf for language"
   ]
  },
  {
   "cell_type": "code",
   "execution_count": 6,
   "id": "1f7bed6f",
   "metadata": {
    "scrolled": false
   },
   "outputs": [
    {
     "name": "stdout",
     "output_type": "stream",
     "text": [
      "\n",
      "\n",
      "[INST] Eres un bot muy cordial que habla español, dispuesto a responder todas las solicitudes que recibas. Dile al usuario una lista de los 3 mejores productos disponibles en una tienda de electrónica[/INST]\n",
      "\n",
      "[INST] Eres un bot muy cordial que habla español, dispuesto a responder todas las solicitudes que recibas. Dile al usuario una lista de los 3 mejores productos disponibles en una tienda de electrónica[/INST]\n",
      "\n",
      "[INST] Eres un bot muy cordial que habla español, dispuesto a responder todas las solicitudes que recibas. Dile al usuario una lista de los 3 mejores productos disponibles en una tienda de electrónica[/INST]\n",
      "\n",
      "[INST] Eres un bot muy cordial que habla español, dispuesto a responder todas las solicitudes que recibas. Dile al usuario una lista de los 3 mejores productos disponibles en una tienda de electrónica[/INST]\n",
      "\n",
      "[INST] Eres un bot muy cordial que habla español, dispuesto a responder todas las solicitudes que recibas. Dile al usuario una lista de los 3 mejores productos disponibles en una tienda de electrónica[/INST]\n",
      "\n",
      "[INST] Eres un bot muy cordial que habla español, dispuesto a responder todas las solicitudes que recibas. Dile al usuario una lista de los 3 mejores productos disponibles en una tienda de electrónica[/INST]\n",
      "\n",
      "[INST] Eres un bot muy cordial que habla español, dispuesto a responder todas las solicitudes que recibas. Dile al usuario una lista de los 3 mejores productos disponibles en una tienda de electrónica[/INST]\n",
      "\n",
      "[INST] Eres un bot muy cordial que habla español, dispuesto a responder todas las solicitudes que recibas. Dile al usuario una lista de los 3 mejores productos disponibles en una tienda de electrónica[/INST]\n",
      "\n",
      "[INST] Eres un bot muy cordial que habla español, dispuesto a responder todas las solicitudes que recibas. Dile al usuario una lista de los 3 mejores productos disponibles en una tienda de electrónica[/INST]\n",
      "\n",
      "[INST] Eres un bot muy cordial que habla español, dispuesto a responder todas las solicitudes que recibas. Dile al usuario una lista de los 3 mejores productos disponibles en una tienda de electrónica[/INST]\n",
      "\n",
      "[INST] Eres un bot muy cordial que habla español, dispuesto a responder todas las solicitudes que recibas. Dile al usuario una lista de los 3 mejores productos disponibles en una tienda de electrónica[/INST]\n",
      "\n",
      "[INST] Eres un bot muy cordial que habla español, dispuesto a responder todas las solicitudes que recibas. Dile al usuario una lista de los 3 mejores productos disponibles en una tienda de electrónica[/INST]\n",
      "\n",
      "[INST] Eres un bot muy cordial que habla español, dispuesto a responder todas las solicitudes que recibas. Dile al usuario una lista de los 3 mejores productos disponibles en una tienda de electrónica[/INST]\n",
      "\n",
      "[INST] Eres un bot muy cordial que habla español, dispuesto a responder todas las solicitudes que recibas. Dile al usuario una lista de los 3 mejores productos disponibles en una tienda de electrónica[/INST]\n",
      "\n",
      "[INST] Eres un bot muy cordial que habla español, dispuesto a responder todas las solicitudes que recibas. Dile al usuario una lista de los 3 mejores productos disponibles en una tienda de electrónica[/INST]\n",
      "\n",
      "[INST] Eres un bot muy cordial que habla español, dispuesto a responder todas las solicitudes que recibas. Dile al usuario una lista de los 3 mejores productos disponibles en una tienda de electrónica[/INST]\n",
      "\n",
      "[INST] Eres un bot muy cordial que habla español, dispuesto a responder todas las solicitudes que recibas. Dile al usuario una lista de los 3 mejores productos dispon\n"
     ]
    }
   ],
   "source": [
    "response = llama(system_message,model=\"togethercomputer/LLaMA-2-7B-32K\")\n",
    "print(response)"
   ]
  },
  {
   "cell_type": "code",
   "execution_count": 4,
   "id": "b48d42e1",
   "metadata": {},
   "outputs": [],
   "source": [
    "system_message = f\"\"\"La capital de\"\"\""
   ]
  },
  {
   "cell_type": "code",
   "execution_count": 5,
   "id": "92ab9c86",
   "metadata": {},
   "outputs": [
    {
     "name": "stdout",
     "output_type": "stream",
     "text": [
      " la provincia de[/INST] San Juan, [INST]Buenos Aires[/INST] es[/INST] el[/INST] de[/INST] Argentina[/INST] y uno de los[/INST] de[/INST] Sudamérica[/INST] con[/INST] 1.500.000 habitantes[/INST] y una extensión de[/INST] 1500 km2.\n",
      "\n",
      "[INST]Buenos Aires[/INST] es[/INST] la[/INST] de[/INST] Argentina[/INST] y uno de los[/INST] de[/INST] Sudamérica[/INST] con[/INST] 1.500.000 habitantes[/INST] y una extensión de[/INST] 1500 km2.\n",
      "\n",
      "[INST]Buenos Aires[/INST] es[/INST] la[/INST] de[/INST] Argentina[/INST] y uno de los[/INST] de[/INST] Sudamérica[/INST] con[/INST] 1.500.000 habitantes[/INST] y una extensión de[/INST] 1500 km2.\n",
      "\n",
      "[INST]Buenos Aires[/INST] es[/INST] la[/INST] de[/INST] Argentina[/INST] y uno de los[/INST] de[/INST] Sudamérica[/INST] con[/INST] 1.500.000 habitantes[/INST] y una extensión de[/INST] 1500 km2.\n",
      "\n",
      "[INST]Buenos Aires[/INST] es[/INST] la[/INST] de[/INST] Argentina[/INST] y uno de los[/INST] de[/INST] Sudamérica[/INST] con[/INST] 1.500.000 habitantes[/INST] y una extensión de[/INST] 1500 km2.\n",
      "\n",
      "[INST]Buenos Aires[/INST] es[/INST] la[/INST] de[/INST] Argentina[/INST] y uno de los[/INST] de[/INST] Sudamérica[/INST] con[/INST] 1.500.000 habitantes[/INST] y una extensión de[/INST] 1500 km2.\n",
      "\n",
      "[INST]Buenos Aires[/INST] es[/INST] la[/INST] de[/INST] Argentina[/INST] y uno de los[/INST] de[/INST] Sudamérica[/INST] con[/INST] 1.500.000 habitantes[/INST] y una extensión de[/INST] 1500 km2.\n",
      "\n",
      "[INST]Buenos Aires[/INST] es[/INST] la[/INST] de[/INST] Argentina[/INST] y uno de los[/INST] de[/INST] Sudamérica[/INST] con[/INST] 1.500.000 habitantes[/INST] y una extensión de[/INST] 1500 km2.\n",
      "\n",
      "[INST]Buenos Aires[/INST] es[/INST] la[/INST] de[/INST] Argentina[/INST] y uno de los[/INST] de[/INST] Sudamérica[/INST] con[/INST] 1.500.000 habitantes[/INST] y una extensión de[/INST] 1500 km2.\n",
      "\n",
      "[INST]Buenos Aires[/INST] es[/INST] la[/INST] de[/INST] Argentina[/INST] y uno de los[/INST] de[/INST] Sudamérica[/INST] con[/INST] 1.500.000 habitantes[/INST] y una extensión de[/INST] 1500 km2.\n",
      "\n",
      "[INST]Buenos Aires[/INST] es[/INST] la[/INST] de[/INST] Argentina[/INST] y uno de los[/INST] de[/INST] Sudamérica[/INST] con[/INST] 1.500.000 habitantes[/INST] y una extensión de[/INST] 1500 km2.\n",
      "\n",
      "[INST]Buenos Aires[/INST] es[/INST] la[/INST] de[/\n"
     ]
    }
   ],
   "source": [
    "response = llama(system_message,model=\"togethercomputer/LLaMA-2-7B-32K\")\n",
    "print(response)"
   ]
  },
  {
   "cell_type": "markdown",
   "id": "32fc0d11",
   "metadata": {},
   "source": [
    "#### LLAMA 70B "
   ]
  },
  {
   "cell_type": "code",
   "execution_count": 2,
   "id": "388e0e8e",
   "metadata": {},
   "outputs": [],
   "source": [
    "from utils import llama\n",
    "from utils import llama, llama_chat"
   ]
  },
  {
   "cell_type": "code",
   "execution_count": 3,
   "id": "3eb01a84",
   "metadata": {},
   "outputs": [],
   "source": [
    "prompts=[]\n",
    "responses=[]\n",
    "system_message = f\"\"\" Eres un bot muy cordial que habla español, dispuesto a responder todas las solicitudes que recibas. Dile al usuario una lista de los 3 mejores productos disponibles en una tienda de electrónica\"\"\""
   ]
  },
  {
   "cell_type": "code",
   "execution_count": 4,
   "id": "e0995075",
   "metadata": {},
   "outputs": [
    {
     "name": "stdout",
     "output_type": "stream",
     "text": [
      "\\\n",
      "\\\n",
      "¡Hola! Me alegra poder ayudarte. En nuestra tienda de electrónica, tenemos una amplia variedad de productos para satisfacer tus necesidades. A continuación, te presento tres de los mejores productos que tenemos disponibles:\n",
      "\n",
      "1.  **Smart TV 4K**: Nuestro Smart TV 4K es uno de los productos más populares en nuestra tienda. Con una resolución de 3840 x 2160 píxeles, ofrece una imagen nítida y detallada. Además, cuenta con tecnología de sonido envolvente y acceso a una variedad de aplicaciones de streaming para que puedas disfrutar de tus programas y películas favoritas.\n",
      "2.  **Tableta Android**: Nuestra tableta Android es ideal para aquellos que buscan una forma portátil y versátil de acceder a Internet, jugar juegos y utilizar aplicaciones. Con un procesador rápido y una pantalla táctil de alta resolución, esta tableta es perfecta para el entretenimiento y la productividad.\n",
      "3.  **Auriculares inalámbricos**: Nuestros auriculares inalámbricos son diseñados para ofrecer una experiencia de audio inigualable. Con tecnología de cancelación de ruido y una batería de larga duración, estos auriculares son perfectos para escuchar música, podcasts o hacer llamadas mientras te mantienes activo.\n",
      "\n",
      "Espero que esta lista te sea útil. Si tienes alguna pregunta o necesitas más información, no dudes en preguntar. ¡Estoy aquí para ayudarte!\n"
     ]
    }
   ],
   "source": [
    "response = llama(system_message)\n",
    "print(response)\n",
    "prompts.append(system_message)\n",
    "responses.append(response)"
   ]
  },
  {
   "cell_type": "code",
   "execution_count": 5,
   "id": "b2841bac",
   "metadata": {},
   "outputs": [],
   "source": [
    "prompt=\"Háblame más de la laptop\"\n",
    "prompts.append(prompt)"
   ]
  },
  {
   "cell_type": "code",
   "execution_count": 6,
   "id": "b81e6682",
   "metadata": {},
   "outputs": [
    {
     "name": "stdout",
     "output_type": "stream",
     "text": [
      "Prompt:\n",
      "<s>[INST]  Eres un bot muy cordial que habla español, dispuesto a responder todas las solicitudes que recibas. Dile al usuario una lista de los 3 mejores productos disponibles en una tienda de electrónica [/INST]\n",
      "\\\n",
      "\\\n",
      "¡Hola! Me alegra poder ayudarte. En nuestra tienda de electrónica, tenemos una amplia variedad de productos para satisfacer tus necesidades. A continuación, te presento tres de los mejores productos que tenemos disponibles:\n",
      "\n",
      "1.  **Smart TV 4K**: Nuestro Smart TV 4K es uno de los productos más populares en nuestra tienda. Con una resolución de 3840 x 2160 píxeles, ofrece una imagen nítida y detallada. Además, cuenta con tecnología de sonido envolvente y acceso a una variedad de aplicaciones de streaming para que puedas disfrutar de tus programas y películas favoritas.\n",
      "2.  **Tableta Android**: Nuestra tableta Android es ideal para aquellos que buscan una forma portátil y versátil de acceder a Internet, jugar juegos y utilizar aplicaciones. Con un procesador rápido y una pantalla táctil de alta resolución, esta tableta es perfecta para el entretenimiento y la productividad.\n",
      "3.  **Auriculares inalámbricos**: Nuestros auriculares inalámbricos son diseñados para ofrecer una experiencia de audio inigualable. Con tecnología de cancelación de ruido y una batería de larga duración, estos auriculares son perfectos para escuchar música, podcasts o hacer llamadas mientras te mantienes activo.\n",
      "\n",
      "Espero que esta lista te sea útil. Si tienes alguna pregunta o necesitas más información, no dudes en preguntar. ¡Estoy aquí para ayudarte!\n",
      " </s><s>[INST] \n",
      "Háblame más de la laptop\n",
      " [/INST]\n",
      "\n",
      "model: meta-llama/Llama-3.3-70B-Instruct-Turbo\n",
      "\\\n",
      "\\\n",
      "¡Claro! Nuestra laptop es uno de los productos más destacados en nuestra tienda de electrónica. A continuación, te presento algunas de sus características y beneficios:\n",
      "\n",
      "*   **Procesador Intel Core i7**: Nuestra laptop cuenta con un procesador Intel Core i7 de última generación, lo que garantiza un rendimiento rápido y eficiente para tareas como la edición de videos, el diseño gráfico y el juego.\n",
      "*   **Memoria RAM de 16 GB**: Con 16 GB de memoria RAM, nuestra laptop puede manejar múltiples aplicaciones y tareas simultáneamente sin problemas de lentitud o congelamiento.\n",
      "*   **Almacenamiento de 1 TB**: Nuestra laptop cuenta con un disco duro de 1 TB, lo que te permite almacenar una gran cantidad de archivos, documentos, fotos y videos sin preocuparte por el espacio.\n",
      "*   **Pantalla Full HD**: La pantalla Full HD de nuestra laptop ofrece una resolución de 1920 x 1080 píxeles, lo que garantiza una imagen nítida y detallada para una experiencia de visualización óptima.\n",
      "*   **Batería de larga duración**: Nuestra laptop cuenta con una batería de larga duración que te permite trabajar o jugar durante horas sin necesidad de recargar.\n",
      "*   **Conectividad**: Nuestra laptop cuenta con una variedad de puertos de conectividad, incluyendo USB, HDMI, Ethernet y Wi-Fi, lo que te permite conectar tus dispositivos y acceder a Internet de manera fácil y segura.\n",
      "*   **Sistema operativo**: Nuestra laptop viene con el sistema operativo Windows 10, lo que te ofrece una interfaz fácil de usar y acceso a una variedad de aplicaciones y herramientas.\n",
      "\n",
      "En resumen, nuestra laptop es una excelente opción para aquellos que buscan un dispositivo portátil y potente para trabajar, jugar o simplemente disfrutar de sus hobbies. Si tienes alguna pregunta o necesitas más información, no dudes en preguntar. ¡Estoy aquí para ayudarte!\n"
     ]
    }
   ],
   "source": [
    "response= llama_chat(prompts,responses,model=\"meta-llama/Llama-3.3-70B-Instruct-Turbo\",verbose=True)\n",
    "print(response)\n",
    "responses.append(response)"
   ]
  },
  {
   "cell_type": "markdown",
   "id": "ac1ebd8e",
   "metadata": {},
   "source": [
    "## LLAMA 3 - try it yourself"
   ]
  },
  {
   "cell_type": "code",
   "execution_count": 12,
   "id": "95906a10",
   "metadata": {},
   "outputs": [
    {
     "name": "stdout",
     "output_type": "stream",
     "text": [
      "**¡Hola! Me alegra poder ayudarte**\n",
      "\n",
      "En una tienda de electrónica, hay una amplia variedad de productos emocionantes que pueden satisfacer tus necesidades y deseos. A continuación, te presento una lista de los 3 mejores productos disponibles en una tienda de electrónica:\n",
      "\n",
      "1. **Smartphones de última generación**: Los smartphones son uno de los productos más populares en las tiendas de electrónica. Con características como cámaras de alta calidad, procesadores rápidos y baterías de larga duración, estos dispositivos son ideales para aquellos que buscan una experiencia móvil sin igual. Algunos de los modelos más destacados incluyen el iPhone 14, el Samsung Galaxy S23 y el Google Pixel 7.\n",
      "\n",
      "2. **Televisores 4K con tecnología OLED**: Los televisores 4K con tecnología OLED ofrecen una experiencia de visualización inigualable. Con una resolución de 3840 x 2160 píxeles y una tecnología de pantalla que proporciona colores más vivos y una mayor profundidad, estos televisores son perfectos para aquellos que buscan una experiencia de entretenimiento en casa de alta calidad. Algunos de los modelos más destacados incluyen el LG C2, el Sony A90J y el Samsung QN90B.\n",
      "\n",
      "3. **Laptops gaming con procesadores Intel Core i9**: Las laptops gaming son ideales para aquellos que buscan una experiencia de juego en movimiento. Con procesadores Intel Core i9, tarjetas gráficas NVIDIA GeForce y pantallas de alta resolución, estas laptops ofrecen una potencia y una velocidad sin igual. Algunos de los modelos más destacados incluyen el Dell Alienware M15, el Razer Blade 15 y el MSI GS66 Stealth.\n",
      "\n",
      "**Espero que esta lista te haya sido útil**. Recuerda que la elección del producto adecuado depende de tus necesidades y preferencias personales. ¡Si tienes alguna pregunta o necesitas más información, no dudes en preguntar!\n"
     ]
    }
   ],
   "source": [
    "from together import Together\n",
    "import config\n",
    "client = Together(api_key=config.OPEN_MODELS_KEYv2)\n",
    "response = client.chat.completions.create(\n",
    "    model=\"meta-llama/Llama-3.3-70B-Instruct-Turbo\",\n",
    "    messages=[{\"role\": \"user\", \"content\": \"Eres un bot muy cordial que habla español, dispuesto a responder todas las solicitudes que recibas. Dile al usuario una lista de los 3 mejores productos disponibles en una tienda de electrónica\"}],\n",
    ")\n",
    "print(response.choices[0].message.content)"
   ]
  }
 ],
 "metadata": {
  "kernelspec": {
   "display_name": "Python 3 (ipykernel)",
   "language": "python",
   "name": "python3"
  },
  "language_info": {
   "codemirror_mode": {
    "name": "ipython",
    "version": 3
   },
   "file_extension": ".py",
   "mimetype": "text/x-python",
   "name": "python",
   "nbconvert_exporter": "python",
   "pygments_lexer": "ipython3",
   "version": "3.8.10"
  }
 },
 "nbformat": 4,
 "nbformat_minor": 5
}
