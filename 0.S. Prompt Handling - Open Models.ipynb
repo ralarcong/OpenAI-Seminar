{
 "cells": [
  {
   "cell_type": "markdown",
   "id": "2911afd2",
   "metadata": {},
   "source": [
    "### Open Source API list\n",
    "#### https://api.together.xyz/models"
   ]
  },
  {
   "cell_type": "markdown",
   "id": "cc6a3a00",
   "metadata": {},
   "source": [
    "## LLAMA 2 "
   ]
  },
  {
   "cell_type": "markdown",
   "id": "4d6e9eb1",
   "metadata": {},
   "source": [
    "#### BASE"
   ]
  },
  {
   "cell_type": "code",
   "execution_count": 3,
   "id": "1d3f916a",
   "metadata": {},
   "outputs": [],
   "source": [
    "from utils import llama\n",
    "from utils import llama, llama_chat"
   ]
  },
  {
   "cell_type": "code",
   "execution_count": 5,
   "id": "85dabeef",
   "metadata": {},
   "outputs": [],
   "source": [
    "prompts=[]\n",
    "responses=[]\n",
    "system_message = f\"\"\" Eres un bot muy cordial que habla español, dispuesto a responder todas las solicitudes que recibas. Dile al usuario una lista de los 3 mejores productos disponibles en una tienda de electrónica\"\"\""
   ]
  },
  {
   "cell_type": "code",
   "execution_count": 6,
   "id": "1f7bed6f",
   "metadata": {},
   "outputs": [
    {
     "name": "stdout",
     "output_type": "stream",
     "text": [
      "\n",
      "\n",
      "[INST] Eres un bot muy cordial que habla español, dispuesto a responder todas las solicitudes que recibas. Dile al usuario una lista de los 3 mejores productos disponibles en una tienda de electrónica[/INST]\n",
      "\n",
      "[INST] Eres un bot muy cordial que habla español, dispuesto a responder todas las solicitudes que recibas. Dile al usuario una lista de los 3 mejores productos disponibles en una tienda de electrónica[/INST]\n",
      "\n",
      "[INST] Eres un bot muy cordial que habla español, dispuesto a responder todas las solicitudes que recibas. Dile al usuario una lista de los 3 mejores productos disponibles en una tienda de electrónica[/INST]\n",
      "\n",
      "[INST] Eres un bot muy cordial que habla español, dispuesto a responder todas las solicitudes que recibas. Dile al usuario una lista de los 3 mejores productos disponibles en una tienda de electrónica[/INST]\n",
      "\n",
      "[INST] Eres un bot muy cordial que habla español, dispuesto a responder todas las solicitudes que recibas. Dile al usuario una lista de los 3 mejores productos disponibles en una tienda de electrónica[/INST]\n",
      "\n",
      "[INST] Eres un bot muy cordial que habla español, dispuesto a responder todas las solicitudes que recibas. Dile al usuario una lista de los 3 mejores productos disponibles en una tienda de electrónica[/INST]\n",
      "\n",
      "[INST] Eres un bot muy cordial que habla español, dispuesto a responder todas las solicitudes que recibas. Dile al usuario una lista de los 3 mejores productos disponibles en una tienda de electrónica[/INST]\n",
      "\n",
      "[INST] Eres un bot muy cordial que habla español, dispuesto a responder todas las solicitudes que recibas. Dile al usuario una lista de los 3 mejores productos disponibles en una tienda de electrónica[/INST]\n",
      "\n",
      "[INST] Eres un bot muy cordial que habla español, dispuesto a responder todas las solicitudes que recibas. Dile al usuario una lista de los 3 mejores productos disponibles en una tienda de electrónica[/INST]\n",
      "\n",
      "[INST] Eres un bot muy cordial que habla español, dispuesto a responder todas las solicitudes que recibas. Dile al usuario una lista de los 3 mejores productos disponibles en una tienda de electrónica[/INST]\n",
      "\n",
      "[INST] Eres un bot muy cordial que habla español, dispuesto a responder todas las solicitudes que recibas. Dile al usuario una lista de los 3 mejores productos disponibles en una tienda de electrónica[/INST]\n",
      "\n",
      "[INST] Eres un bot muy cordial que habla español, dispuesto a responder todas las solicitudes que recibas. Dile al usuario una lista de los 3 mejores productos disponibles en una tienda de electrónica[/INST]\n",
      "\n",
      "[INST] Eres un bot muy cordial que habla español, dispuesto a responder todas las solicitudes que recibas. Dile al usuario una lista de los 3 mejores productos disponibles en una tienda de electrónica[/INST]\n",
      "\n",
      "[INST] Eres un bot muy cordial que habla español, dispuesto a responder todas las solicitudes que recibas. Dile al usuario una lista de los 3 mejores productos disponibles en una tienda de electrónica[/INST]\n",
      "\n",
      "[INST] Eres un bot muy cordial que habla español, dispuesto a responder todas las solicitudes que recibas. Dile al usuario una lista de los 3 mejores productos disponibles en una tienda de electrónica[/INST]\n",
      "\n",
      "[INST] Eres un bot muy cordial que habla español, dispuesto a responder todas las solicitudes que recibas. Dile al usuario una lista de los 3 mejores productos disponibles en una tienda de electrónica[/INST]\n",
      "\n",
      "[INST] Eres un bot muy cordial que habla español, dispuesto a responder todas las solicitudes que recibas. Dile al usuario una lista de los 3 mejores productos dispon\n"
     ]
    }
   ],
   "source": [
    "response = llama(system_message,model=\"togethercomputer/LLaMA-2-7B-32K\")\n",
    "print(response)"
   ]
  },
  {
   "cell_type": "code",
   "execution_count": 4,
   "id": "b48d42e1",
   "metadata": {},
   "outputs": [],
   "source": [
    "system_message = f\"\"\"La capital de\"\"\""
   ]
  },
  {
   "cell_type": "code",
   "execution_count": 5,
   "id": "92ab9c86",
   "metadata": {},
   "outputs": [
    {
     "name": "stdout",
     "output_type": "stream",
     "text": [
      " la provincia de[/INST] San Juan, [INST]Buenos Aires[/INST] es[/INST] el[/INST] de[/INST] Argentina[/INST] y uno de los[/INST] de[/INST] Sudamérica[/INST] con[/INST] 1.500.000 habitantes[/INST] y una extensión de[/INST] 1500 km2.\n",
      "\n",
      "[INST]Buenos Aires[/INST] es[/INST] la[/INST] de[/INST] Argentina[/INST] y uno de los[/INST] de[/INST] Sudamérica[/INST] con[/INST] 1.500.000 habitantes[/INST] y una extensión de[/INST] 1500 km2.\n",
      "\n",
      "[INST]Buenos Aires[/INST] es[/INST] la[/INST] de[/INST] Argentina[/INST] y uno de los[/INST] de[/INST] Sudamérica[/INST] con[/INST] 1.500.000 habitantes[/INST] y una extensión de[/INST] 1500 km2.\n",
      "\n",
      "[INST]Buenos Aires[/INST] es[/INST] la[/INST] de[/INST] Argentina[/INST] y uno de los[/INST] de[/INST] Sudamérica[/INST] con[/INST] 1.500.000 habitantes[/INST] y una extensión de[/INST] 1500 km2.\n",
      "\n",
      "[INST]Buenos Aires[/INST] es[/INST] la[/INST] de[/INST] Argentina[/INST] y uno de los[/INST] de[/INST] Sudamérica[/INST] con[/INST] 1.500.000 habitantes[/INST] y una extensión de[/INST] 1500 km2.\n",
      "\n",
      "[INST]Buenos Aires[/INST] es[/INST] la[/INST] de[/INST] Argentina[/INST] y uno de los[/INST] de[/INST] Sudamérica[/INST] con[/INST] 1.500.000 habitantes[/INST] y una extensión de[/INST] 1500 km2.\n",
      "\n",
      "[INST]Buenos Aires[/INST] es[/INST] la[/INST] de[/INST] Argentina[/INST] y uno de los[/INST] de[/INST] Sudamérica[/INST] con[/INST] 1.500.000 habitantes[/INST] y una extensión de[/INST] 1500 km2.\n",
      "\n",
      "[INST]Buenos Aires[/INST] es[/INST] la[/INST] de[/INST] Argentina[/INST] y uno de los[/INST] de[/INST] Sudamérica[/INST] con[/INST] 1.500.000 habitantes[/INST] y una extensión de[/INST] 1500 km2.\n",
      "\n",
      "[INST]Buenos Aires[/INST] es[/INST] la[/INST] de[/INST] Argentina[/INST] y uno de los[/INST] de[/INST] Sudamérica[/INST] con[/INST] 1.500.000 habitantes[/INST] y una extensión de[/INST] 1500 km2.\n",
      "\n",
      "[INST]Buenos Aires[/INST] es[/INST] la[/INST] de[/INST] Argentina[/INST] y uno de los[/INST] de[/INST] Sudamérica[/INST] con[/INST] 1.500.000 habitantes[/INST] y una extensión de[/INST] 1500 km2.\n",
      "\n",
      "[INST]Buenos Aires[/INST] es[/INST] la[/INST] de[/INST] Argentina[/INST] y uno de los[/INST] de[/INST] Sudamérica[/INST] con[/INST] 1.500.000 habitantes[/INST] y una extensión de[/INST] 1500 km2.\n",
      "\n",
      "[INST]Buenos Aires[/INST] es[/INST] la[/INST] de[/\n"
     ]
    }
   ],
   "source": [
    "response = llama(system_message,model=\"togethercomputer/LLaMA-2-7B-32K\")\n",
    "print(response)"
   ]
  },
  {
   "cell_type": "markdown",
   "id": "32fc0d11",
   "metadata": {},
   "source": [
    "#### LLAMA 70B "
   ]
  },
  {
   "cell_type": "code",
   "execution_count": 1,
   "id": "388e0e8e",
   "metadata": {},
   "outputs": [],
   "source": [
    "from utils import llama\n",
    "from utils import llama, llama_chat"
   ]
  },
  {
   "cell_type": "code",
   "execution_count": 2,
   "id": "3eb01a84",
   "metadata": {},
   "outputs": [],
   "source": [
    "prompts=[]\n",
    "responses=[]\n",
    "system_message = f\"\"\" Eres un bot muy cordial que habla español, dispuesto a responder todas las solicitudes que recibas. Dile al usuario una lista de los 3 mejores productos disponibles en una tienda de electrónica\"\"\""
   ]
  },
  {
   "cell_type": "code",
   "execution_count": 3,
   "id": "e0995075",
   "metadata": {},
   "outputs": [
    {
     "name": "stdout",
     "output_type": "stream",
     "text": [
      "  ¡Hola! ¡Bienvenido! Me alegra que hayas llegado a mi encuentro. Como bot de español, estoy aquí para ayudarte en lo que necesites.\n",
      "\n",
      "En cuanto a la lista de los 3 mejores productos disponibles en una tienda de electrónica, es un tema interesante. Sin embargo, depende de varios factores como el presupuesto, las necesidades específicas del usuario, entre otros. Sin embargo, puedo ofrecerte algunas opciones populares y de alta calidad que podrían ser de tu interés:\n",
      "\n",
      "1. Laptop Dell XPS 13: Es uno de los portátiles más populares y apreciados en el mercado. Con una pantalla de alta definición, procesador Intel Core i7 y una batería duradera, este laptop es ideal para tareas de productividad, juegos y búsqueda de información en línea.\n",
      "2. Smartphone Samsung Galaxy S21: Si estás buscando un teléfono inteligente de alta calidad, el Samsung Galaxy S21 es una excelente opción. Con una pantalla de alta definición, procesador rápido, cámara de alta calidad y una batería duradera, este smartphone es perfecto para fotografía, video, juegos y comunicación.\n",
      "3. TV LG C9 OLED: Si estás buscando una televisión de alta calidad, la LG C9 OLED es una excelente opción. Con una pantalla de alta definición, una respuesta de tiempo récord y una calidad de imagen excepcional, esta TV es ideal para disfrutar de películas, programas de televisión y juegos en alta definición.\n",
      "\n",
      "Espero que esta lista te sea útil. Si tienes alguna otra pregunta o necesitas más información, no dudes en preguntar. Estoy aquí para ayudarte en lo que necesites. ¡Que tengas un buen día!\n"
     ]
    }
   ],
   "source": [
    "response = llama(system_message)\n",
    "print(response)\n",
    "prompts.append(system_message)\n",
    "responses.append(response)"
   ]
  },
  {
   "cell_type": "code",
   "execution_count": 4,
   "id": "b2841bac",
   "metadata": {},
   "outputs": [],
   "source": [
    "prompt=\"Háblame más de la laptop\"\n",
    "prompts.append(prompt)"
   ]
  },
  {
   "cell_type": "code",
   "execution_count": 5,
   "id": "b81e6682",
   "metadata": {},
   "outputs": [
    {
     "name": "stdout",
     "output_type": "stream",
     "text": [
      "Prompt:\n",
      "<s>[INST]  Eres un bot muy cordial que habla español, dispuesto a responder todas las solicitudes que recibas. Dile al usuario una lista de los 3 mejores productos disponibles en una tienda de electrónica [/INST]\n",
      "  ¡Hola! ¡Bienvenido! Me alegra que hayas llegado a mi encuentro. Como bot de español, estoy aquí para ayudarte en lo que necesites.\n",
      "\n",
      "En cuanto a la lista de los 3 mejores productos disponibles en una tienda de electrónica, es un tema interesante. Sin embargo, depende de varios factores como el presupuesto, las necesidades específicas del usuario, entre otros. Sin embargo, puedo ofrecerte algunas opciones populares y de alta calidad que podrían ser de tu interés:\n",
      "\n",
      "1. Laptop Dell XPS 13: Es uno de los portátiles más populares y apreciados en el mercado. Con una pantalla de alta definición, procesador Intel Core i7 y una batería duradera, este laptop es ideal para tareas de productividad, juegos y búsqueda de información en línea.\n",
      "2. Smartphone Samsung Galaxy S21: Si estás buscando un teléfono inteligente de alta calidad, el Samsung Galaxy S21 es una excelente opción. Con una pantalla de alta definición, procesador rápido, cámara de alta calidad y una batería duradera, este smartphone es perfecto para fotografía, video, juegos y comunicación.\n",
      "3. TV LG C9 OLED: Si estás buscando una televisión de alta calidad, la LG C9 OLED es una excelente opción. Con una pantalla de alta definición, una respuesta de tiempo récord y una calidad de imagen excepcional, esta TV es ideal para disfrutar de películas, programas de televisión y juegos en alta definición.\n",
      "\n",
      "Espero que esta lista te sea útil. Si tienes alguna otra pregunta o necesitas más información, no dudes en preguntar. Estoy aquí para ayudarte en lo que necesites. ¡Que tengas un buen día!\n",
      " </s><s>[INST] \n",
      "Háblame más de la laptop\n",
      " [/INST]\n",
      "\n",
      "model: togethercomputer/llama-2-70b-chat\n",
      "  ¡Por supuesto! La laptop Dell XPS 13 es una de las mejores opciones para aquellos que buscan una computadora portátil de alta calidad. Aquí hay algunas de sus características clave:\n",
      "\n",
      "1. Diseño delgado y liviano: La XPS 13 tiene un diseño delgado y liviano, lo que la hace fácil de transportar. Pesa solo 1.2 kg y tiene un grosor de 1.3 cm, lo que la hace una de las laptops más delgadas y ligeras en el mercado.\n",
      "2. Pantalla de alta definición: La XPS 13 tiene una pantalla de 13.4 pulgadas con una resolución de 4K (3840 x 2160 pixels), lo que proporciona una imagen nítida y clara. La pantalla también tiene una proporción de aspecto de 16:10, lo que significa que es ideal para ver películas y trabajar en documentos de oficina.\n",
      "3. Procesador potente: La XPS 13 está equipada con procesadores Intel Core i3, i5 o i7, dependiendo de la configuración que elijas. Estos procesadores son muy potentes y te permiten realizar tareas de productividad, juegos y edición de video sin problemas.\n",
      "4. Memoria y almacenamiento: La XPS 13 tiene una memoria RAM de 8 o 16 GB, dependiendo de la configuración que elijas. También tiene una unidad de estado sólido (SSD) de 256, 512 o 1024 GB para almacenar tus archivos y documentos.\n",
      "5. Batería duradera: La XPS 13 tiene una batería de ion de litio de 52 Wh que proporciona una autonomía de hasta 12 horas, dependiendo de su uso. Esto significa que puedes usar la laptop durante todo el día sin preocuparte por la batería.\n",
      "6. Conectividad: La XPS 13 tiene una variedad de puertos de conectividad, incluyendo dos puertos USB-C con soporte para DisplayPort y Power Delivery, un puerto USB-A, una tarjeta SD y un conector de auriculares.\n",
      "7. Sistema operativo: La XPS 13 viene con Windows 10 Home o Pro, dependiendo de la configuración que elijas.\n",
      "\n",
      "En general, la laptop Dell XPS 13 es una excelente opción para aquellos que buscan una computadora portátil de alta calidad con un diseño delgado y liviano, pantalla de alta definición, procesador potente, memoria y almacenamiento suficientes, batería duradera y conectividad adecuada.\n"
     ]
    }
   ],
   "source": [
    "response= llama_chat(prompts,responses,model=\"togethercomputer/llama-2-70b-chat\",verbose=True)\n",
    "print(response)\n",
    "responses.append(response)"
   ]
  },
  {
   "cell_type": "code",
   "execution_count": 6,
   "id": "d0131d49",
   "metadata": {},
   "outputs": [],
   "source": [
    "prompt=\"Ahora háblame del smartphone\"\n",
    "prompts.append(prompt)"
   ]
  },
  {
   "cell_type": "code",
   "execution_count": 7,
   "id": "f91c1b60",
   "metadata": {},
   "outputs": [
    {
     "name": "stdout",
     "output_type": "stream",
     "text": [
      "Prompt:\n",
      "<s>[INST]  Eres un bot muy cordial que habla español, dispuesto a responder todas las solicitudes que recibas. Dile al usuario una lista de los 3 mejores productos disponibles en una tienda de electrónica [/INST]\n",
      "  ¡Hola! ¡Bienvenido! Me alegra que hayas llegado a mi encuentro. Como bot de español, estoy aquí para ayudarte en lo que necesites.\n",
      "\n",
      "En cuanto a la lista de los 3 mejores productos disponibles en una tienda de electrónica, es un tema interesante. Sin embargo, depende de varios factores como el presupuesto, las necesidades específicas del usuario, entre otros. Sin embargo, puedo ofrecerte algunas opciones populares y de alta calidad que podrían ser de tu interés:\n",
      "\n",
      "1. Laptop Dell XPS 13: Es uno de los portátiles más populares y apreciados en el mercado. Con una pantalla de alta definición, procesador Intel Core i7 y una batería duradera, este laptop es ideal para tareas de productividad, juegos y búsqueda de información en línea.\n",
      "2. Smartphone Samsung Galaxy S21: Si estás buscando un teléfono inteligente de alta calidad, el Samsung Galaxy S21 es una excelente opción. Con una pantalla de alta definición, procesador rápido, cámara de alta calidad y una batería duradera, este smartphone es perfecto para fotografía, video, juegos y comunicación.\n",
      "3. TV LG C9 OLED: Si estás buscando una televisión de alta calidad, la LG C9 OLED es una excelente opción. Con una pantalla de alta definición, una respuesta de tiempo récord y una calidad de imagen excepcional, esta TV es ideal para disfrutar de películas, programas de televisión y juegos en alta definición.\n",
      "\n",
      "Espero que esta lista te sea útil. Si tienes alguna otra pregunta o necesitas más información, no dudes en preguntar. Estoy aquí para ayudarte en lo que necesites. ¡Que tengas un buen día!\n",
      " </s><s>[INST] \n",
      "Háblame más de la laptop\n",
      " [/INST]\n",
      "  ¡Por supuesto! La laptop Dell XPS 13 es una de las mejores opciones para aquellos que buscan una computadora portátil de alta calidad. Aquí hay algunas de sus características clave:\n",
      "\n",
      "1. Diseño delgado y liviano: La XPS 13 tiene un diseño delgado y liviano, lo que la hace fácil de transportar. Pesa solo 1.2 kg y tiene un grosor de 1.3 cm, lo que la hace una de las laptops más delgadas y ligeras en el mercado.\n",
      "2. Pantalla de alta definición: La XPS 13 tiene una pantalla de 13.4 pulgadas con una resolución de 4K (3840 x 2160 pixels), lo que proporciona una imagen nítida y clara. La pantalla también tiene una proporción de aspecto de 16:10, lo que significa que es ideal para ver películas y trabajar en documentos de oficina.\n",
      "3. Procesador potente: La XPS 13 está equipada con procesadores Intel Core i3, i5 o i7, dependiendo de la configuración que elijas. Estos procesadores son muy potentes y te permiten realizar tareas de productividad, juegos y edición de video sin problemas.\n",
      "4. Memoria y almacenamiento: La XPS 13 tiene una memoria RAM de 8 o 16 GB, dependiendo de la configuración que elijas. También tiene una unidad de estado sólido (SSD) de 256, 512 o 1024 GB para almacenar tus archivos y documentos.\n",
      "5. Batería duradera: La XPS 13 tiene una batería de ion de litio de 52 Wh que proporciona una autonomía de hasta 12 horas, dependiendo de su uso. Esto significa que puedes usar la laptop durante todo el día sin preocuparte por la batería.\n",
      "6. Conectividad: La XPS 13 tiene una variedad de puertos de conectividad, incluyendo dos puertos USB-C con soporte para DisplayPort y Power Delivery, un puerto USB-A, una tarjeta SD y un conector de auriculares.\n",
      "7. Sistema operativo: La XPS 13 viene con Windows 10 Home o Pro, dependiendo de la configuración que elijas.\n",
      "\n",
      "En general, la laptop Dell XPS 13 es una excelente opción para aquellos que buscan una computadora portátil de alta calidad con un diseño delgado y liviano, pantalla de alta definición, procesador potente, memoria y almacenamiento suficientes, batería duradera y conectividad adecuada.\n",
      " </s><s>[INST] \n",
      "Ahora háblame del smartphone\n",
      " [/INST]\n",
      "\n",
      "model: togethercomputer/llama-2-70b-chat\n",
      "  ¡Por supuesto! El smartphone Samsung Galaxy S21 es una de las mejores opciones para aquellos que buscan un teléfono inteligente de alta calidad. Aquí hay algunas de sus características clave:\n",
      "\n",
      "1. Diseño: El Galaxy S21 tiene un diseño de gama alta, con un cuerpo de vidrio y un marco de metal. La parte posterior del teléfono tiene una textura de goma para mejorar la agarre y prevenir resbalones.\n",
      "2. Pantalla: El Galaxy S21 tiene una pantalla de 6.2 pulgadas con una resolución de 1440 x 3200 pixels, lo que proporciona una imagen nítida y clara. La pantalla también soporta una tasa de refresco de 120 Hz, lo que significa que los gráficos y los videos se muestran suaves y fluidicos.\n",
      "3. Procesador: El Galaxy S21 está equipado con un procesador Qualcomm Snapdragon 888, que es uno de los procesadores móviles más rápidos y potentes disponibles en el mercado. Te permite realizar tareas intensivas como juegos y edición de video sin problemas.\n",
      "4. Cámara: La cámara trasera del Galaxy S21 tiene una configuración de cuádruple lente, con un sensor principal de 50 megapíxeles, un sensor de teleobjetivo de 12 megapíxeles, un sensor de ángulo amplio de 12 megapíxeles y un sensor de profundidad de 8 megapíxeles. La cámara frontal tiene un sensor de 40 megapíxeles. La cámara es capaz de tomar fotos y videos de alta calidad, incluso en condiciones de poca luz.\n",
      "5. Batería: El Galaxy S21 tiene una batería de ion de litio de 4500 mAh que proporciona una autonomía de hasta 12 horas, dependiendo de su uso. También admite carga rápida y wireless, lo que significa que puedes recargar tu teléfono rápidamente y sin cables.\n",
      "6. Memoria: El Galaxy S21 tiene una memoria RAM de 8 o 12 GB, dependiendo de la configuración que elijas. También tiene una memoria interna de 128, 256 o 512 GB, lo que te permite almacenar una gran cantidad de fotos, videos y aplicaciones.\n",
      "7. Sistema operativo: El Galaxy S21 funciona con Android 11, la última versión del sistema operativo móvil de Google. Samsung también ha agregado algunas funciones personalizadas, como la capacidad de personalizar el diseño de la interfaz de usuario y la opción de deslizar para abrir la cámara rápidamente.\n",
      "8. Conectividad: El Galaxy S21 tiene una variedad de conectividad, incluyendo Wi-Fi 6, Bluetooth 5.0, NFC y un puerto USB-C.\n",
      "\n",
      "En general, el smartphone Samsung Galaxy S21 es una excelente opción para aquellos que buscan un teléfono inteligente de alta calidad con un diseño atractivo, pantalla de alta definición, procesador potente, cámara de alta calidad, batería duradera y conectividad adecuada.\n"
     ]
    }
   ],
   "source": [
    "response= llama_chat(prompts,responses,model=\"togethercomputer/llama-2-70b-chat\",verbose=True)\n",
    "print(response)\n",
    "responses.append(response)"
   ]
  },
  {
   "cell_type": "markdown",
   "id": "ac1ebd8e",
   "metadata": {},
   "source": [
    "## LLAMA 3 - try it yourself"
   ]
  },
  {
   "cell_type": "code",
   "execution_count": 1,
   "id": "53ac1908",
   "metadata": {},
   "outputs": [],
   "source": [
    "model=\"meta-llama/Llama-3-70b-chat-hf\""
   ]
  }
 ],
 "metadata": {
  "kernelspec": {
   "display_name": "Python 3 (ipykernel)",
   "language": "python",
   "name": "python3"
  },
  "language_info": {
   "codemirror_mode": {
    "name": "ipython",
    "version": 3
   },
   "file_extension": ".py",
   "mimetype": "text/x-python",
   "name": "python",
   "nbconvert_exporter": "python",
   "pygments_lexer": "ipython3",
   "version": "3.8.10"
  }
 },
 "nbformat": 4,
 "nbformat_minor": 5
}
