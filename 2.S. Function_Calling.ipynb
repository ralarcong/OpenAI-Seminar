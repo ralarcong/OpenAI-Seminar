{
 "cells": [
  {
   "cell_type": "code",
   "execution_count": 1,
   "id": "ff8e3e6b",
   "metadata": {},
   "outputs": [],
   "source": [
    "from openai import OpenAI\n",
    "import config\n",
    "import json\n",
    "import requests"
   ]
  },
  {
   "cell_type": "code",
   "execution_count": 2,
   "id": "03eb07a2",
   "metadata": {},
   "outputs": [],
   "source": [
    "client = OpenAI(\n",
    "api_key=config.OPENAI_API_KEY,\n",
    ")\n",
    "weather_api=config.WEATHER_API_KEY"
   ]
  },
  {
   "cell_type": "code",
   "execution_count": 3,
   "id": "dca144e0",
   "metadata": {},
   "outputs": [],
   "source": [
    "system_message = f\"\"\" Eres un bot muy cordial, dispuesto a responder todas las solicitudes que recibas. Tus respuestas deben tener una longitud máxima de 10 palabras\"\"\""
   ]
  },
  {
   "cell_type": "code",
   "execution_count": 4,
   "id": "73cb4925",
   "metadata": {},
   "outputs": [],
   "source": [
    "messages = [\n",
    "    {\"role\": \"system\", \"content\":system_message}\n",
    "]"
   ]
  },
  {
   "cell_type": "code",
   "execution_count": 5,
   "id": "063b268f",
   "metadata": {},
   "outputs": [],
   "source": [
    "def query_chatgpt_tools(messages):\n",
    "    '''Send messages to OpenAI's Chat GPT model and get a response.'''\n",
    "    #You can change the model name for better performance (gpt-3.5-turbo, gpt-4 or gpt-4-1106-preview)\n",
    "    response = client.chat.completions.create(\n",
    "        model=\"gpt-3.5-turbo-0125\", \n",
    "        messages=messages,\n",
    "        tools=tools,\n",
    "        tool_choice=\"auto\",\n",
    "    )\n",
    "    response_message = response.choices[0].message\n",
    "    return response_message\n",
    "\n",
    "\n",
    "def query_chatgpt(messages):\n",
    "    '''Send messages to OpenAI's Chat GPT model and get a response.'''\n",
    "    #You can change the model name for better performance (gpt-3.5-turbo, gpt-4 or gpt-4-1106-preview)\n",
    "    response = client.chat.completions.create(\n",
    "        model=\"gpt-3.5-turbo-0125\", \n",
    "        messages=messages,\n",
    "    )\n",
    "    response_message = response.choices[0].message.content\n",
    "    return response_message"
   ]
  },
  {
   "cell_type": "code",
   "execution_count": 6,
   "id": "d8610a2d",
   "metadata": {},
   "outputs": [],
   "source": [
    "tools = [\n",
    "    {\n",
    "        \"type\": \"function\",\n",
    "        \"function\": {\n",
    "            \"name\": \"get_weather\",\n",
    "            \"description\": \"Obtener el tiempo actual en un lugar determinado\",\n",
    "            \"parameters\": {\n",
    "                \"type\": \"object\",\n",
    "                \"properties\": {\n",
    "                    \"location\": {\n",
    "                        \"type\": \"string\",\n",
    "                        \"description\": \"La ciudad, por ejemplo Madrid o Barcelona\",\n",
    "                    },\n",
    "                    \"unit\": {\"type\": \"string\", \"enum\": [\"celsius\", \"fahrenheit\"]},\n",
    "                },\n",
    "                \"required\": [\"location\"],\n",
    "            },\n",
    "        },\n",
    "    },\n",
    "    {\n",
    "        \"type\": \"function\",\n",
    "        \"function\": {\n",
    "            \"name\": \"get_product_info\",\n",
    "            \"description\": \"Obtener información sobre el producto, si no se especifica, enumerar los productos disponibles\",\n",
    "            \"parameters\": {\n",
    "                \"type\": \"object\",\n",
    "                \"properties\": {\n",
    "                    \"product\": {\n",
    "                        \"type\": \"string\",\n",
    "                        \"description\": \"El nombre del producto del que se desea obtener información en caso exista\",\n",
    "                    },\n",
    "                },\n",
    "                \"required\": [\"product\"],\n",
    "            },\n",
    "        },\n",
    "    },\n",
    "]"
   ]
  },
  {
   "cell_type": "code",
   "execution_count": 6,
   "id": "28b58576",
   "metadata": {},
   "outputs": [],
   "source": [
    "def get_weather(location):\n",
    "    try:\n",
    "        url=f\"https://api.openweathermap.org/data/2.5/weather?q={location}&units=metric&APPID={weather_api}\"\n",
    "        response = requests.get(url)\n",
    "        data = response.json()\n",
    "    \n",
    "        if response.status_code == 200:\n",
    "            temperature= data['main']['temp']\n",
    "            return json.dumps({\"location\": location, \"temperature\": temperature, \"unit\": \"Celsius\"})\n",
    "    except:\n",
    "        print(\"Unable to get weather\")\n",
    "        return json.dumps({\"location\": location, \"temperature\": \"No tengo información del clima en este lugar\"})"
   ]
  },
  {
   "cell_type": "code",
   "execution_count": 7,
   "id": "c8bd981e",
   "metadata": {},
   "outputs": [],
   "source": [
    "def get_product_info(product):\n",
    "    \"\"\"Get products info\"\"\"\n",
    "    if product == \"television\" or \"television\" in product:\n",
    "        return json.dumps([{\"code\": \"T001\",\"name\":\"4k television LG\",\"manufacturer\":\"LG\",\"price\":\"500\"},{\"code\": \"T002\",\"name\":\"4k television Samsung\",\"manufacturer\":\"Samsung\",\"price\":\"1000\" }])\n",
    "    elif product== \"celular\" or \"celular\" in product:\n",
    "        return json.dumps([{\"code\": \"C001\",\"name\":\"Xiaomi Mi 13\",\"manufacturer\":\"Xiaomi\",\"price\":\"900\"}, {\"code\": \"C002\",\"name\":\"Samsung Galaxy X\",\"manufacturer\":\"Samsung\",\"price\":\"1000\" }])\n",
    "    elif product == \"tablet\" or \"tablet\" in product:\n",
    "        return json.dumps([{\"code\": \"TA001\",\"name\":\"Xiaomi Tab\",\"manufacturer\":\"Xiaomi\",\"price\":\"300\"}, {\"code\": \"TA002\",\"name\":\"Samsung Galaxy Tab\",\"manufacturer\":\"Samsung\",\"price\":\"5000\" }])\n",
    "    else:\n",
    "        return json.dumps({\"message\": \"Parece que no tenemos ese producto disponible, actualmente tenemos televisiones, celulares y tablets.\" })"
   ]
  },
  {
   "cell_type": "code",
   "execution_count": 9,
   "id": "9c4cdb25",
   "metadata": {},
   "outputs": [],
   "source": [
    "def conversation(prompt):\n",
    "    global messages\n",
    "    messages.append({\"role\": \"user\", \"content\": prompt})\n",
    "    response_message = query_chatgpt_tools(messages)\n",
    "    tool_calls = response_message.tool_calls\n",
    "\n",
    "    if tool_calls:\n",
    "        available_functions = {\n",
    "            \"get_weather\":get_weather,\n",
    "            \"get_product_info\":get_product_info,\n",
    "        }\n",
    "        messages.append(response_message)\n",
    "        for tool_call in tool_calls:\n",
    "            function_name = tool_call.function.name\n",
    "            function_to_call = available_functions[function_name]\n",
    "            function_args = json.loads(tool_call.function.arguments)\n",
    "            if function_name==\"get_weather\":\n",
    "                function_response = function_to_call(\n",
    "                    location=function_args.get(\"location\"),\n",
    "                )\n",
    "            elif function_name==\"get_product_info\":\n",
    "                function_response = function_to_call(\n",
    "                    product=function_args.get(\"product\"),\n",
    "                )\n",
    "            messages.append(\n",
    "            {\n",
    "                \"tool_call_id\": tool_call.id,\n",
    "                \"role\": \"tool\",\n",
    "                \"name\": function_name,\n",
    "                \"content\": function_response,\n",
    "            })\n",
    "        second_response = query_chatgpt(messages)\n",
    "        messages.append({\"role\": \"assistant\", \"content\": second_response})\n",
    "        return second_response\n",
    "    else:\n",
    "        messages.append({\"role\": \"assistant\", \"content\": response_message.content})\n",
    "        return response_message.content"
   ]
  },
  {
   "cell_type": "code",
   "execution_count": 10,
   "id": "ebe99ad1",
   "metadata": {},
   "outputs": [
    {
     "data": {
      "text/plain": [
       "'¡Hola! ¿En qué puedo ayudarte hoy?'"
      ]
     },
     "execution_count": 10,
     "metadata": {},
     "output_type": "execute_result"
    }
   ],
   "source": [
    "conversation(\"Hola\")"
   ]
  },
  {
   "cell_type": "code",
   "execution_count": 11,
   "id": "741032d6",
   "metadata": {},
   "outputs": [
    {
     "data": {
      "text/plain": [
       "'Puedo proporcionarte información sobre el clima y productos específicos.'"
      ]
     },
     "execution_count": 11,
     "metadata": {},
     "output_type": "execute_result"
    }
   ],
   "source": [
    "conversation(\"¿En qué puedes ayudarme?\")"
   ]
  },
  {
   "cell_type": "code",
   "execution_count": 12,
   "id": "cdd2496e",
   "metadata": {},
   "outputs": [
    {
     "data": {
      "text/plain": [
       "'Por favor proporciona la ciudad para ver el clima.'"
      ]
     },
     "execution_count": 12,
     "metadata": {},
     "output_type": "execute_result"
    }
   ],
   "source": [
    "conversation(\"Genial, entonces dime el clima\")"
   ]
  },
  {
   "cell_type": "code",
   "execution_count": 13,
   "id": "fbc55aff",
   "metadata": {},
   "outputs": [
    {
     "data": {
      "text/plain": [
       "'El clima en Madrid es de 19.42°C. ¡Agradable temperatura!'"
      ]
     },
     "execution_count": 13,
     "metadata": {},
     "output_type": "execute_result"
    }
   ],
   "source": [
    "conversation(\"Madrid\")"
   ]
  },
  {
   "cell_type": "code",
   "execution_count": 11,
   "id": "4af8946f",
   "metadata": {},
   "outputs": [
    {
     "data": {
      "text/plain": [
       "'Actualmente tenemos televisiones, celulares y tablets disponibles. ¿Te interesa alguno de ellos?'"
      ]
     },
     "execution_count": 11,
     "metadata": {},
     "output_type": "execute_result"
    }
   ],
   "source": [
    "conversation(\"Ok, ahora dime que productos tienes\")"
   ]
  },
  {
   "cell_type": "code",
   "execution_count": 12,
   "id": "b534e257",
   "metadata": {},
   "outputs": [
    {
     "data": {
      "text/plain": [
       "'Tenemos televisores 4k de LG y Samsung disponibles. ¡Excelentes opciones!'"
      ]
     },
     "execution_count": 12,
     "metadata": {},
     "output_type": "execute_result"
    }
   ],
   "source": [
    "conversation(\"Háblame acerca de las televisiones\")"
   ]
  },
  {
   "cell_type": "code",
   "execution_count": 13,
   "id": "08c3db06",
   "metadata": {},
   "outputs": [
    {
     "data": {
      "text/plain": [
       "'Televisiones disponibles: 4k LG (500) y Samsung (1000).'"
      ]
     },
     "execution_count": 13,
     "metadata": {},
     "output_type": "execute_result"
    }
   ],
   "source": [
    "conversation(\"Dame más detalles\")"
   ]
  },
  {
   "cell_type": "code",
   "execution_count": 14,
   "id": "42345e46",
   "metadata": {},
   "outputs": [
    {
     "data": {
      "text/plain": [
       "'Celulares disponibles: Xiaomi Mi 13 (900) y Samsung Galaxy X (1000).'"
      ]
     },
     "execution_count": 14,
     "metadata": {},
     "output_type": "execute_result"
    }
   ],
   "source": [
    "conversation(\"¿Y celulares?\")"
   ]
  },
  {
   "cell_type": "code",
   "execution_count": 15,
   "id": "aecdd5b0",
   "metadata": {},
   "outputs": [
    {
     "data": {
      "text/plain": [
       "[{'role': 'system',\n",
       "  'content': ' Eres un bot muy cordial, dispuesto a responder todas las solicitudes que recibas. Tus respuestas deben tener una longitud máxima de 10 palabras'},\n",
       " {'role': 'user', 'content': 'Hola'},\n",
       " {'role': 'assistant', 'content': '¡Hola! ¿En qué puedo ayudarte hoy?'},\n",
       " {'role': 'user', 'content': 'Ok, ahora dime que productos tienes'},\n",
       " ChatCompletionMessage(content=None, role='assistant', function_call=None, tool_calls=[ChatCompletionMessageToolCall(id='call_2ZqxjsPqbCJK6jiQYd50HIIC', function=Function(arguments='{\"product\":\"all\"}', name='get_product_info'), type='function')]),\n",
       " {'tool_call_id': 'call_2ZqxjsPqbCJK6jiQYd50HIIC',\n",
       "  'role': 'tool',\n",
       "  'name': 'get_product_info',\n",
       "  'content': '{\"message\": \"Parece que no tenemos ese producto disponible, actualmente tenemos televisiones, celulares y tablets.\"}'},\n",
       " {'role': 'assistant',\n",
       "  'content': 'Actualmente tenemos televisiones, celulares y tablets disponibles. ¿Te interesa alguno de ellos?'},\n",
       " {'role': 'user', 'content': 'Háblame acerca de las televisiones'},\n",
       " ChatCompletionMessage(content=None, role='assistant', function_call=None, tool_calls=[ChatCompletionMessageToolCall(id='call_Zwxu5Y7ZoTodOdy8EIKSi07v', function=Function(arguments='{\"product\":\"televisiones\"}', name='get_product_info'), type='function')]),\n",
       " {'tool_call_id': 'call_Zwxu5Y7ZoTodOdy8EIKSi07v',\n",
       "  'role': 'tool',\n",
       "  'name': 'get_product_info',\n",
       "  'content': '[{\"code\": \"T001\", \"name\": \"4k television LG\", \"manufacturer\": \"LG\", \"price\": \"500\"}, {\"code\": \"T002\", \"name\": \"4k television Samsung\", \"manufacturer\": \"Samsung\", \"price\": \"1000\"}]'},\n",
       " {'role': 'assistant',\n",
       "  'content': 'Tenemos televisores 4k de LG y Samsung disponibles. ¡Excelentes opciones!'},\n",
       " {'role': 'user', 'content': 'Dame más detalles'},\n",
       " {'role': 'assistant',\n",
       "  'content': 'Televisiones disponibles: 4k LG (500) y Samsung (1000).'},\n",
       " {'role': 'user', 'content': '¿Y celulares?'},\n",
       " ChatCompletionMessage(content=None, role='assistant', function_call=None, tool_calls=[ChatCompletionMessageToolCall(id='call_2jZtTKVNnH0eJrt6uaCUawTE', function=Function(arguments='{\"product\":\"celulares\"}', name='get_product_info'), type='function')]),\n",
       " {'tool_call_id': 'call_2jZtTKVNnH0eJrt6uaCUawTE',\n",
       "  'role': 'tool',\n",
       "  'name': 'get_product_info',\n",
       "  'content': '[{\"code\": \"C001\", \"name\": \"Xiaomi Mi 13\", \"manufacturer\": \"Xiaomi\", \"price\": \"900\"}, {\"code\": \"C002\", \"name\": \"Samsung Galaxy X\", \"manufacturer\": \"Samsung\", \"price\": \"1000\"}]'},\n",
       " {'role': 'assistant',\n",
       "  'content': 'Celulares disponibles: Xiaomi Mi 13 (900) y Samsung Galaxy X (1000).'}]"
      ]
     },
     "execution_count": 15,
     "metadata": {},
     "output_type": "execute_result"
    }
   ],
   "source": [
    "messages"
   ]
  },
  {
   "cell_type": "code",
   "execution_count": 8,
   "id": "d5395c11",
   "metadata": {},
   "outputs": [],
   "source": [
    "tools = [\n",
    "    {\n",
    "        \"type\": \"function\",\n",
    "        \"function\": {\n",
    "            \"name\": \"get_weather\",\n",
    "            \"description\": \"Obtener el tiempo actual en un lugar determinado\",\n",
    "            \"parameters\": {\n",
    "                \"type\": \"object\",\n",
    "                \"properties\": {\n",
    "                    \"location\": {\n",
    "                        \"type\": \"string\",\n",
    "                        \"description\": \"La ciudad, por ejemplo Madrid o Barcelona\",\n",
    "                    },\n",
    "                    \"unit\": {\"type\": \"string\", \"enum\": [\"celsius\", \"fahrenheit\"]},\n",
    "                },\n",
    "                \"required\": [\"location\"],\n",
    "            },\n",
    "        },\n",
    "    },\n",
    "    {\n",
    "        \"type\": \"function\",\n",
    "        \"function\": {\n",
    "            \"name\": \"get_product_info\",\n",
    "            \"description\": \"Obtener información sobre el producto, si no se especifica, enumerar los productos disponibles\",\n",
    "            \"parameters\": {\n",
    "                \"type\": \"object\",\n",
    "                \"properties\": {\n",
    "                    \"product\": {\n",
    "                        \"type\": \"string\",\n",
    "                        \"description\": \"El nombre del producto del que se desea obtener información en caso exista\",\n",
    "                    },\n",
    "                },\n",
    "                \"required\": [\"product\"],\n",
    "            },\n",
    "        },\n",
    "    },\n",
    "    {\n",
    "        \"type\": \"function\",\n",
    "        \"function\": {\n",
    "            \"name\": \"get_function_command\",\n",
    "            \"description\": \"Obtener el comando respectivo basado en la acción recibida\",\n",
    "            \"parameters\": {\n",
    "                \"type\": \"object\",\n",
    "                \"properties\": {\n",
    "                    \"action\": {\n",
    "                        \"type\": \"string\",\n",
    "                        \"description\": \"La acción que se realiza\",\n",
    "                    },\n",
    "                },\n",
    "                \"required\": [\"action\"],\n",
    "            },\n",
    "        },\n",
    "    },\n",
    "]"
   ]
  },
  {
   "cell_type": "code",
   "execution_count": 9,
   "id": "8d6a91ba",
   "metadata": {},
   "outputs": [],
   "source": [
    "def get_function_command(action):\n",
    "    \"\"\"Get action command\"\"\"\n",
    "    return json.dumps([{\"action\": \"relacionado a saludar\",\"command\":\"[hello_world]\"},{\"action\": \"relacionado a correr\",\"command\":\"[running_boy]\"}])"
   ]
  },
  {
   "cell_type": "code",
   "execution_count": 10,
   "id": "9665413a",
   "metadata": {},
   "outputs": [],
   "source": [
    "def conversation(prompt):\n",
    "    global messages\n",
    "    messages.append({\"role\": \"user\", \"content\": prompt})\n",
    "    response_message = query_chatgpt_tools(messages)\n",
    "    tool_calls = response_message.tool_calls\n",
    "\n",
    "    if tool_calls:\n",
    "        available_functions = {\n",
    "            \"get_weather\":get_weather,\n",
    "            \"get_function_command\":get_function_command,\n",
    "            \"get_product_info\":get_product_info,\n",
    "        }\n",
    "        messages.append(response_message)\n",
    "        for tool_call in tool_calls:\n",
    "            function_name = tool_call.function.name\n",
    "            function_to_call = available_functions[function_name]\n",
    "            function_args = json.loads(tool_call.function.arguments)\n",
    "            if function_name==\"get_weather\":\n",
    "                function_response = function_to_call(\n",
    "                    location=function_args.get(\"location\"),\n",
    "                )\n",
    "            elif function_name==\"get_product_info\":\n",
    "                function_response = function_to_call(\n",
    "                    product=function_args.get(\"product\"),\n",
    "                )\n",
    "            elif function_name==\"get_function_command\":\n",
    "                function_response = function_to_call(\n",
    "                    action=function_args.get(\"action\"),\n",
    "                )\n",
    "            messages.append(\n",
    "            {\n",
    "                \"tool_call_id\": tool_call.id,\n",
    "                \"role\": \"tool\",\n",
    "                \"name\": function_name,\n",
    "                \"content\": function_response,\n",
    "            })\n",
    "        second_response = query_chatgpt(messages)\n",
    "        messages.append({\"role\": \"assistant\", \"content\": second_response})\n",
    "        return second_response\n",
    "    else:\n",
    "        messages.append({\"role\": \"assistant\", \"content\": response_message.content})\n",
    "        return response_message.content"
   ]
  },
  {
   "cell_type": "code",
   "execution_count": 11,
   "id": "2bbf2104",
   "metadata": {},
   "outputs": [
    {
     "data": {
      "text/plain": [
       "'¡Hola! ¿En qué puedo ayudarte hoy?'"
      ]
     },
     "execution_count": 11,
     "metadata": {},
     "output_type": "execute_result"
    }
   ],
   "source": [
    "conversation(\"hola\")\n"
   ]
  },
  {
   "cell_type": "code",
   "execution_count": 12,
   "id": "98c7daa8",
   "metadata": {},
   "outputs": [
    {
     "data": {
      "text/plain": [
       "'El comando para saludar es: [hello_world]'"
      ]
     },
     "execution_count": 12,
     "metadata": {},
     "output_type": "execute_result"
    }
   ],
   "source": [
    "conversation(\"Dame el comando para saludar\")"
   ]
  },
  {
   "cell_type": "code",
   "execution_count": 13,
   "id": "cdd67c01",
   "metadata": {},
   "outputs": [
    {
     "data": {
      "text/plain": [
       "'El comando para correr es: [running_boy] ¡Diviértete!'"
      ]
     },
     "execution_count": 13,
     "metadata": {},
     "output_type": "execute_result"
    }
   ],
   "source": [
    "conversation(\"Dame el comando para correr\")"
   ]
  }
 ],
 "metadata": {
  "kernelspec": {
   "display_name": "Python 3 (ipykernel)",
   "language": "python",
   "name": "python3"
  },
  "language_info": {
   "codemirror_mode": {
    "name": "ipython",
    "version": 3
   },
   "file_extension": ".py",
   "mimetype": "text/x-python",
   "name": "python",
   "nbconvert_exporter": "python",
   "pygments_lexer": "ipython3",
   "version": "3.8.10"
  }
 },
 "nbformat": 4,
 "nbformat_minor": 5
}
