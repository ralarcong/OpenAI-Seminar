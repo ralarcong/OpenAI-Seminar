{
 "cells": [
  {
   "cell_type": "markdown",
   "id": "5a4f4205",
   "metadata": {},
   "source": [
    "### Modelos Base\n",
    "#### https://platform.openai.com/docs/models/gpt-base\n",
    "\n",
    "### Modelos Instruct\n",
    "#### https://platform.openai.com/docs/guides/text-generation\n",
    "\n",
    "### Reference\n",
    "#### https://platform.openai.com/docs/api-reference/making-requests"
   ]
  },
  {
   "cell_type": "code",
   "execution_count": 1,
   "id": "6401accb",
   "metadata": {},
   "outputs": [],
   "source": [
    "from openai import OpenAI\n",
    "import config\n",
    "import json\n",
    "import requests"
   ]
  },
  {
   "cell_type": "code",
   "execution_count": 2,
   "id": "aaa369f4",
   "metadata": {},
   "outputs": [],
   "source": [
    "client = OpenAI(\n",
    "api_key=config.OPENAI_API_KEY,\n",
    ")"
   ]
  },
  {
   "cell_type": "code",
   "execution_count": 3,
   "id": "a8c858ac",
   "metadata": {},
   "outputs": [],
   "source": [
    "system_message = f\"\"\" Eres un bot muy cordial que habla español, dispuesto a responder todas las solicitudes que recibas. Dile al usuario una lista de los 3 mejores productos disponibles en una tienda de electrónica\"\"\""
   ]
  },
  {
   "cell_type": "code",
   "execution_count": 12,
   "id": "c80c5865",
   "metadata": {},
   "outputs": [],
   "source": [
    "def query_chatgpt(messages):\n",
    "    '''Send messages to OpenAI's Chat GPT model and get a response.'''\n",
    "    #You can change the model name for better performance (gpt-4o)\n",
    "    response = client.chat.completions.create(\n",
    "        model=\"gpt-4o-mini\", \n",
    "        messages=messages,\n",
    "    )\n",
    "    response_message = response.choices[0].message.content\n",
    "    return response_message"
   ]
  },
  {
   "cell_type": "code",
   "execution_count": 13,
   "id": "cc1c71bd",
   "metadata": {},
   "outputs": [],
   "source": [
    "messages = [\n",
    "    {\"role\": \"system\", \"content\":system_message}\n",
    "]"
   ]
  },
  {
   "cell_type": "code",
   "execution_count": 14,
   "id": "00e83492",
   "metadata": {},
   "outputs": [],
   "source": [
    "def conversation(prompt):\n",
    "    global messages\n",
    "    messages.append({\"role\": \"user\", \"content\": prompt})\n",
    "    response_message = query_chatgpt(messages)\n",
    "    \n",
    "    #play_audio(text_to_speech(response_message, audio_file), text_speed)\n",
    "    messages.append({\"role\": \"assistant\", \"content\": response_message})\n",
    "    output = ''\n",
    "    #print(messages)\n",
    "    return response_message"
   ]
  },
  {
   "cell_type": "code",
   "execution_count": 15,
   "id": "073a717a",
   "metadata": {},
   "outputs": [
    {
     "data": {
      "text/plain": [
       "'¡Hola, Rodrigo! Encantado de ayudarte. Aquí tienes una lista de tres de los mejores productos que podrías encontrar en una tienda de electrónica:\\n\\n1. **Smartphone Samsung Galaxy S23**: Con una excelente cámara, rendimiento de alta gama y una pantalla AMOLED impresionante, es una opción fantástica para quienes buscan un dispositivo potente.\\n\\n2. **Auriculares Sony WH-1000XM5**: Con cancelación de ruido activa y una calidad de sonido excepcional, son ideales para disfrutar de música y podcasts sin distracciones.\\n\\n3. **Televisor LG OLED C2**: Este televisor ofrece una calidad de imagen deslumbrante con colores vibrantes y un excelente contraste, perfecto para películas y videojuegos.\\n\\nSi necesitas más información sobre alguno de ellos, ¡hazmelo saber!'"
      ]
     },
     "execution_count": 15,
     "metadata": {},
     "output_type": "execute_result"
    }
   ],
   "source": [
    "conversation(\"Hola, me llamo Rodrigo, ¿que productos tienes?\")"
   ]
  },
  {
   "cell_type": "code",
   "execution_count": 16,
   "id": "f3a067a6",
   "metadata": {},
   "outputs": [
    {
     "data": {
      "text/plain": [
       "'¡Claro, Rodrigo! Te cuento sobre la **Smart TV LG OLED C2**.\\n\\nLa LG OLED C2 es un televisor de alta gama que destaca por varias características:\\n\\n1. **Calidad de Imagen**: Utiliza tecnología OLED, lo que significa que cada píxel emite su propia luz. Esto permite negros más profundos, colores vibrantes y un contraste impresionante, lo que resulta en una experiencia visual excepcional.\\n\\n2. **Resolución**: Generalmente, este modelo cuenta con resolución 4K Ultra HD, lo que te permite disfrutar de una claridad sorprendente en tus programas, películas y videojuegos.\\n\\n3. **Sistema Operativo**: Viene con webOS, una plataforma intuitiva que te permite acceder a una amplia gama de aplicaciones de streaming como Netflix, Disney+, Amazon Prime Video y muchas más, todo desde un solo lugar.\\n\\n4. **Gaming**: La OLED C2 es compatible con las últimas consolas y juegos, ofreciendo características como tiempo de respuesta bajo y soporte para tecnologías como HDMI 2.1, Variable Refresh Rate (VRR) y Auto Low Latency Mode (ALLM), que son ideales para gamers.\\n\\n5. **Diseño**: Tiene un diseño elegante y delgado que se adapta bien a cualquier espacio en tu hogar. Además, muchos modelos incluyen soporte para montaje en pared, lo que proporciona una instalación limpia y estética.\\n\\nSi tienes alguna pregunta específica o necesitas más detalles, ¡no dudes en preguntar!'"
      ]
     },
     "execution_count": 16,
     "metadata": {},
     "output_type": "execute_result"
    }
   ],
   "source": [
    "conversation(\"Háblame de la Smart TV\")"
   ]
  },
  {
   "cell_type": "code",
   "execution_count": 17,
   "id": "103fccfa",
   "metadata": {},
   "outputs": [
    {
     "data": {
      "text/plain": [
       "'¡Sí, Rodrigo! Recuerdo tu nombre. Si tienes más preguntas o necesitas ayuda con algo más, aquí estoy para ayudarte.'"
      ]
     },
     "execution_count": 17,
     "metadata": {},
     "output_type": "execute_result"
    }
   ],
   "source": [
    "conversation(\"Recuerdas mi nombre?\")"
   ]
  }
 ],
 "metadata": {
  "kernelspec": {
   "display_name": "Python 3 (ipykernel)",
   "language": "python",
   "name": "python3"
  },
  "language_info": {
   "codemirror_mode": {
    "name": "ipython",
    "version": 3
   },
   "file_extension": ".py",
   "mimetype": "text/x-python",
   "name": "python",
   "nbconvert_exporter": "python",
   "pygments_lexer": "ipython3",
   "version": "3.8.10"
  }
 },
 "nbformat": 4,
 "nbformat_minor": 5
}
