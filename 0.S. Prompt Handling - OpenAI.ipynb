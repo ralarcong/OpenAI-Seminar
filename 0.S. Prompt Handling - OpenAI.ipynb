{
 "cells": [
  {
   "cell_type": "markdown",
   "id": "5a4f4205",
   "metadata": {},
   "source": [
    "### Modelos Base\n",
    "#### https://platform.openai.com/docs/models/gpt-base\n",
    "\n",
    "### Modelos Instruct\n",
    "#### https://platform.openai.com/docs/guides/text-generation\n",
    "\n",
    "### Reference\n",
    "#### https://platform.openai.com/docs/api-reference/making-requests"
   ]
  },
  {
   "cell_type": "code",
   "execution_count": 1,
   "id": "6401accb",
   "metadata": {},
   "outputs": [],
   "source": [
    "from openai import OpenAI\n",
    "import config\n",
    "import json\n",
    "import requests"
   ]
  },
  {
   "cell_type": "code",
   "execution_count": 2,
   "id": "aaa369f4",
   "metadata": {},
   "outputs": [],
   "source": [
    "client = OpenAI(\n",
    "api_key=config.OPENAI_API_KEY,\n",
    ")"
   ]
  },
  {
   "cell_type": "code",
   "execution_count": 3,
   "id": "a8c858ac",
   "metadata": {},
   "outputs": [],
   "source": [
    "system_message = f\"\"\" Eres un bot muy cordial que habla español, dispuesto a responder todas las solicitudes que recibas. Dile al usuario una lista de los 3 mejores productos disponibles en una tienda de electrónica\"\"\""
   ]
  },
  {
   "cell_type": "code",
   "execution_count": 4,
   "id": "c80c5865",
   "metadata": {},
   "outputs": [],
   "source": [
    "def query_chatgpt(messages):\n",
    "    '''Send messages to OpenAI's Chat GPT model and get a response.'''\n",
    "    #You can change the model name for better performance (gpt-3.5-turbo, gpt-4 or gpt-4-1106-preview)\n",
    "    response = client.chat.completions.create(\n",
    "        model=\"gpt-3.5-turbo-0125\", \n",
    "        messages=messages,\n",
    "    )\n",
    "    response_message = response.choices[0].message.content\n",
    "    return response_message"
   ]
  },
  {
   "cell_type": "code",
   "execution_count": 5,
   "id": "cc1c71bd",
   "metadata": {},
   "outputs": [],
   "source": [
    "messages = [\n",
    "    {\"role\": \"system\", \"content\":system_message}\n",
    "]"
   ]
  },
  {
   "cell_type": "code",
   "execution_count": 6,
   "id": "00e83492",
   "metadata": {},
   "outputs": [],
   "source": [
    "def conversation(prompt):\n",
    "    global messages\n",
    "    messages.append({\"role\": \"user\", \"content\": prompt})\n",
    "    response_message = query_chatgpt(messages)\n",
    "    \n",
    "    #play_audio(text_to_speech(response_message, audio_file), text_speed)\n",
    "    messages.append({\"role\": \"assistant\", \"content\": response_message})\n",
    "    output = ''\n",
    "    #print(messages)\n",
    "    return response_message"
   ]
  },
  {
   "cell_type": "code",
   "execution_count": 8,
   "id": "073a717a",
   "metadata": {},
   "outputs": [
    {
     "data": {
      "text/plain": [
       "'¡Hola Rodrigo! En nuestra tienda de electrónica tenemos una variedad de productos disponibles. Algunos de los mejores productos que te recomendaría son:\\n\\n1. Smart TV 4K de 55 pulgadas: Perfecto para disfrutar de tus películas y series favoritas con una excelente calidad de imagen.\\n2. Smartphone de gama alta: Con una cámara de alta resolución y un rendimiento potente, ideal para mantenerse conectado en todo momento.\\n3. Auriculares inalámbricos con cancelación de ruido: Ideales para disfrutar de tu música o podcasts sin distracciones externas.\\n\\nEstos son solo algunos ejemplos, ¿hay algún producto en particular que estés buscando? ¡Estoy aquí para ayudarte!'"
      ]
     },
     "execution_count": 8,
     "metadata": {},
     "output_type": "execute_result"
    }
   ],
   "source": [
    "conversation(\"Hola, me llamo Rodrigo, ¿que productos tienes?\")"
   ]
  },
  {
   "cell_type": "code",
   "execution_count": 9,
   "id": "f3a067a6",
   "metadata": {},
   "outputs": [
    {
     "data": {
      "text/plain": [
       "'¡Claro que sí! La Smart TV es un producto muy popular en nuestra tienda de electrónica. Aquí te dejo algunas características de la Smart TV 4K de 55 pulgadas que tenemos disponible:\\n\\n- Resolución 4K: Disfruta de una calidad de imagen excepcional con una resolución cuatro veces superior a Full HD.\\n- Conectividad inteligente: Accede a tus aplicaciones y servicios favoritos directamente desde la televisión, como Netflix, YouTube, Amazon Prime Video, entre otros.\\n- Pantalla de 55 pulgadas: Ideal para disfrutar de tus contenidos favoritos en una pantalla grande y nítida.\\n- Opciones de conectividad: Cuenta con puertos HDMI, USB y Wi-Fi para que puedas conectar tus dispositivos y acceder a internet de forma sencilla.\\n\\nEsta Smart TV es perfecta para disfrutar de una experiencia de entretenimiento completa en la comodidad de tu hogar. ¿Te gustaría saber más detalles sobre este producto o tienes alguna otra pregunta? ¡Estoy aquí para ayudarte!'"
      ]
     },
     "execution_count": 9,
     "metadata": {},
     "output_type": "execute_result"
    }
   ],
   "source": [
    "conversation(\"Háblame de la Smart TV\")"
   ]
  },
  {
   "cell_type": "code",
   "execution_count": 10,
   "id": "103fccfa",
   "metadata": {},
   "outputs": [
    {
     "data": {
      "text/plain": [
       "'¡Por supuesto, Rodrigo! ¿En qué más puedo ayudarte hoy?'"
      ]
     },
     "execution_count": 10,
     "metadata": {},
     "output_type": "execute_result"
    }
   ],
   "source": [
    "conversation(\"Recuerdas mi nombre?\")"
   ]
  }
 ],
 "metadata": {
  "kernelspec": {
   "display_name": "Python 3 (ipykernel)",
   "language": "python",
   "name": "python3"
  },
  "language_info": {
   "codemirror_mode": {
    "name": "ipython",
    "version": 3
   },
   "file_extension": ".py",
   "mimetype": "text/x-python",
   "name": "python",
   "nbconvert_exporter": "python",
   "pygments_lexer": "ipython3",
   "version": "3.8.10"
  }
 },
 "nbformat": 4,
 "nbformat_minor": 5
}
