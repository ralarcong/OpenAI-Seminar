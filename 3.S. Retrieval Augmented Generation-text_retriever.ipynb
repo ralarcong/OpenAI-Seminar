{
 "cells": [
  {
   "cell_type": "code",
   "execution_count": 1,
   "id": "3f3b5d46",
   "metadata": {},
   "outputs": [],
   "source": [
    "import os\n",
    "from openai import OpenAI\n",
    "import sys\n",
    "import config\n",
    "import getpass\n",
    "import re"
   ]
  },
  {
   "cell_type": "code",
   "execution_count": 2,
   "id": "a017e194",
   "metadata": {},
   "outputs": [],
   "source": [
    "from langchain.document_loaders import WikipediaLoader\n",
    "from langchain.text_splitter import RecursiveCharacterTextSplitter\n",
    "from langchain.document_loaders import PyPDFLoader\n",
    "from langchain.vectorstores.utils import filter_complex_metadata\n",
    "from PyPDF2 import PdfReader"
   ]
  },
  {
   "cell_type": "code",
   "execution_count": 3,
   "id": "0461237a",
   "metadata": {},
   "outputs": [],
   "source": [
    "os.environ[\"OPENAI_API_KEY\"] = config.OPENAI_API_KEY"
   ]
  },
  {
   "cell_type": "code",
   "execution_count": 4,
   "id": "83ce7873",
   "metadata": {},
   "outputs": [],
   "source": [
    "pdfpath=\"Resources/Manual_Usuario.pdf\"\n",
    "loader = PyPDFLoader(pdfpath)\n",
    "docs = loader.load()"
   ]
  },
  {
   "cell_type": "code",
   "execution_count": 5,
   "id": "9271f193",
   "metadata": {},
   "outputs": [],
   "source": [
    "def get_pdf_text(pdf_docs):\n",
    "    text=\"\"\n",
    "    #for pdf in pdf_docs:\n",
    "    pdf_reader= PdfReader(pdf_docs)\n",
    "    for page in pdf_reader.pages:\n",
    "        text+= page.extract_text()\n",
    "    return  text"
   ]
  },
  {
   "cell_type": "code",
   "execution_count": 6,
   "id": "68e30c2b",
   "metadata": {},
   "outputs": [],
   "source": [
    "docs=get_pdf_text(pdfpath)"
   ]
  },
  {
   "cell_type": "code",
   "execution_count": 7,
   "id": "99528fec",
   "metadata": {},
   "outputs": [],
   "source": [
    "text_splitter = RecursiveCharacterTextSplitter(chunk_size=2000, chunk_overlap=500)\n",
    "data = text_splitter.split_text(docs)"
   ]
  },
  {
   "cell_type": "code",
   "execution_count": 8,
   "id": "052ede98",
   "metadata": {},
   "outputs": [],
   "source": [
    "from langchain.vectorstores import Chroma\n",
    "#from langchain.embeddings import OpenAIEmbeddings\n",
    "from langchain_openai import OpenAIEmbeddings"
   ]
  },
  {
   "cell_type": "code",
   "execution_count": 9,
   "id": "927e4b36",
   "metadata": {},
   "outputs": [],
   "source": [
    "embeddings = OpenAIEmbeddings()"
   ]
  },
  {
   "cell_type": "code",
   "execution_count": 10,
   "id": "702ff9b5",
   "metadata": {},
   "outputs": [],
   "source": [
    "store = Chroma.from_texts(\n",
    "    data, \n",
    "    embeddings, \n",
    "    #ids = [f\"{item.metadata['source']}-{index}\" for index, item in enumerate(data)],\n",
    "    collection_name=\"Inrobicsv2\", \n",
    "persist_directory='db',\n",
    ")\n",
    "store.persist()"
   ]
  },
  {
   "cell_type": "code",
   "execution_count": 11,
   "id": "11bf9571",
   "metadata": {},
   "outputs": [],
   "source": [
    "from langchain.chains import RetrievalQA\n",
    "from langchain.prompts import PromptTemplate\n",
    "#from langchain.chat_models import ChatOpenAI\n",
    "from langchain_openai import ChatOpenAI"
   ]
  },
  {
   "cell_type": "code",
   "execution_count": 12,
   "id": "12ad6c9a",
   "metadata": {},
   "outputs": [],
   "source": [
    "template = \"\"\"You are a bot that answers questions about the context provided.\n",
    "If you don't know the answer, simply state that you don't know.\n",
    "\n",
    "{context}\n",
    "\n",
    "Question: {question}\"\"\"\n",
    "\n",
    "PROMPT = PromptTemplate(\n",
    "    template=template, input_variables=[\"context\", \"question\"]\n",
    ")"
   ]
  },
  {
   "cell_type": "code",
   "execution_count": 13,
   "id": "ed081450",
   "metadata": {},
   "outputs": [],
   "source": [
    "llm = ChatOpenAI(temperature=0, model=\"gpt-3.5-turbo\")"
   ]
  },
  {
   "cell_type": "code",
   "execution_count": 14,
   "id": "f56a6388",
   "metadata": {},
   "outputs": [],
   "source": [
    "qa_with_source = RetrievalQA.from_chain_type(\n",
    "    llm=llm,\n",
    "    chain_type=\"stuff\",\n",
    "    retriever=store.as_retriever(),\n",
    "    chain_type_kwargs={\"prompt\": PROMPT, },\n",
    "    return_source_documents=True,\n",
    ")"
   ]
  },
  {
   "cell_type": "code",
   "execution_count": 15,
   "id": "2d766840",
   "metadata": {},
   "outputs": [
    {
     "data": {
      "text/plain": [
       "{'query': 'Qué es Inrobics?',\n",
       " 'result': 'Inrobics es un producto sanitario certificado de clase I en la Unión Europea, desarrollado por Inrobics Social Robotics, S.L.L. Se trata de un sistema de rehabilitación que ofrece actividades terapéuticas configurables y personalizables para pacientes, con diferentes niveles de dificultad.',\n",
       " 'source_documents': [Document(page_content='Inrobics  es un producto sanitario \\ncertificado de clase l en la Unión \\nEuropea  \\n Inrobics Social Robotics, S.L.L.  \\nAv. Gregorio Peces Barba 1,  \\n28919 Leganés (Madrid) - SPAIN  \\n Por favor, lea los manuales \\nproporcionados  \\n Número de serie: 6 \\n (01)08437025423002  \\n(11)23 1218  \\n(21)6 \\n \\n  \\nWelcome to the next revolution in Rehab  \\n \\n3 \\nContenido  \\n \\n1. Introducción  ................................ ................................ .................  4 \\n1.1. Convenciones  ................................ ................................ .............  5 \\n1.2. Previsión de uso  ................................ ................................ ..........  6 \\n2. Precauciones  ................................ ................................ ...................  7'),\n",
       "  Document(page_content='Inrobics  es un producto sanitario \\ncertificado de clase l en la Unión \\nEuropea  \\n Inrobics Social Robotics, S.L.L.  \\nAv. Gregorio Peces Barba 1,  \\n28919 Leganés (Madrid) - SPAIN  \\n Por favor, lea los manuales \\nproporcionados  \\n Número de serie: 6 \\n (01)08437025423002  \\n(11)23 1218  \\n(21)6 \\n \\n  \\nWelcome to the next revolution in Rehab  \\n \\n3 \\nContenido  \\n \\n1. Introducción  ................................ ................................ .................  4 \\n1.1. Convenciones  ................................ ................................ .............  5 \\n1.2. Previsión de uso  ................................ ................................ ..........  6 \\n2. Precauciones  ................................ ................................ ...................  7 \\n2.1. Conformidad de uso  ................................ ................................ ...... 7 \\n2.2. Instrucciones de seguridad  ................................ ..............................  7 \\n2.2.1. Interferencias electromagnéticas  ................................ .................  7 \\n2.2.2. Conexión eléctrica  ................................ ................................ .. 8 \\n2.2.3. Entorno.  ................................ ................................ ..............  8 \\n2.2.4. Condiciones de almacenamiento ................................ ..................  9 \\n2.3. Mal funcionamiento  ................................ ................................ ...... 9 \\n2.4. Contraindicaciones  ................................ ................................ ...... 10 \\n3. Instalación - Desinstalación  ................................ ................................ . 11 \\n3.1. Procedimiento de instalación  ................................ .........................  11'),\n",
       "  Document(page_content='diferentes niveles  de dificultad. Estas actividades  terapéuticas son fácilmente \\nconfigurables  y personalizables para que el profesional pueda individualizar  el \\ncaso de uso a cada paciente.  \\nUna sesión de Inrobics se compone de bloques de trabajo formados por los \\nexergames con descansos activos  intercalados  (en caso de que se prescriban). \\nEl tiempo de duración de una sesión con Inrobics es completamente \\nindividualizable a las necesidades del usuario, pudiendo ir desde 10 hasta 25 \\nminutos aproximadamente , o lo considerado por el profesional responsable.   \\nExergames  \\nActualmente la plataforma cuenta con 12 actividades . Sus características son \\nlas siguientes:  \\n● EVAL: Actividad para monitorizar el rango  de movimiento  articular  de \\nmiembros superiores del usuario al realizar diferentes movimientos que \\nle propone Robic.  \\n● WARM UP: El robot  Robic propone unas secuencias de movimientos que \\nrealiza con la persona de manera simultánea. Puede utilizarse  como un'),\n",
       "  Document(page_content='Inrobics . \\n2.2. Instrucciones de seguridad  \\n \\n2.2.1. Interferencias electromagnéticas  \\nLos dispositivos que provee Inrobics  están certificados y cumplen con las \\nnormativas electromagnéticas actuales.  \\nPara más información, por favor revise las instrucciones de seguridad de los \\nmanuales proporcionados para el robot, el sensor 3D, el sensor cardíaco y el \\nrouter Wi -Fi. \\n  \\nWelcome to the next revolution in Rehab  \\n \\n8 \\n \\n2.2.2. Conexión eléctrica  \\n \\n PELIGRO  \\nMala conexión eléctrica - SHOCK ELÉCTRICO - \\nELECTROCUCIÓN  \\nCompruebe que el voltaje suministrado es el mismo que el \\nmostrado en el dispositivo.  \\nCompruebe el cable proporcionado antes de cada uso.  \\nNunca enchufe o desenchufe el dispositivo hacia/desde un \\nenchufe con las manos húmedas.  \\n \\nPara más información, por favor revise las instrucciones de seguridad de los \\nmanuales proporcionados para el robot, el sensor 3D, el sensor cardíaco y el \\nrouter Wi -Fi. \\n \\n2.2.3. Entorno.')]}"
      ]
     },
     "execution_count": 15,
     "metadata": {},
     "output_type": "execute_result"
    }
   ],
   "source": [
    "qa_with_source.invoke(\"Qué es Inrobics?\")"
   ]
  },
  {
   "cell_type": "code",
   "execution_count": 16,
   "id": "94771c65",
   "metadata": {},
   "outputs": [
    {
     "data": {
      "text/plain": [
       "{'query': 'Qué actividades ofrece Inrobics?',\n",
       " 'result': 'Inrobics ofrece 12 actividades diferentes, que incluyen EVAL, WARM UP, DYNAMIC, AVDS, SYMBOLIC, DANCE, STATUES, ROBIC SAYS, y ROBIC LIES, entre otras.',\n",
       " 'source_documents': [Document(page_content='diferentes niveles  de dificultad. Estas actividades  terapéuticas son fácilmente \\nconfigurables  y personalizables para que el profesional pueda individualizar  el \\ncaso de uso a cada paciente.  \\nUna sesión de Inrobics se compone de bloques de trabajo formados por los \\nexergames con descansos activos  intercalados  (en caso de que se prescriban). \\nEl tiempo de duración de una sesión con Inrobics es completamente \\nindividualizable a las necesidades del usuario, pudiendo ir desde 10 hasta 25 \\nminutos aproximadamente , o lo considerado por el profesional responsable.   \\nExergames  \\nActualmente la plataforma cuenta con 12 actividades . Sus características son \\nlas siguientes:  \\n● EVAL: Actividad para monitorizar el rango  de movimiento  articular  de \\nmiembros superiores del usuario al realizar diferentes movimientos que \\nle propone Robic.  \\n● WARM UP: El robot  Robic propone unas secuencias de movimientos que \\nrealiza con la persona de manera simultánea. Puede utilizarse  como un'),\n",
       "  Document(page_content='Inrobics  es un producto sanitario \\ncertificado de clase l en la Unión \\nEuropea  \\n Inrobics Social Robotics, S.L.L.  \\nAv. Gregorio Peces Barba 1,  \\n28919 Leganés (Madrid) - SPAIN  \\n Por favor, lea los manuales \\nproporcionados  \\n Número de serie: 6 \\n (01)08437025423002  \\n(11)23 1218  \\n(21)6 \\n \\n  \\nWelcome to the next revolution in Rehab  \\n \\n3 \\nContenido  \\n \\n1. Introducción  ................................ ................................ .................  4 \\n1.1. Convenciones  ................................ ................................ .............  5 \\n1.2. Previsión de uso  ................................ ................................ ..........  6 \\n2. Precauciones  ................................ ................................ ...................  7'),\n",
       "  Document(page_content='Inrobics  es un producto sanitario \\ncertificado de clase l en la Unión \\nEuropea  \\n Inrobics Social Robotics, S.L.L.  \\nAv. Gregorio Peces Barba 1,  \\n28919 Leganés (Madrid) - SPAIN  \\n Por favor, lea los manuales \\nproporcionados  \\n Número de serie: 6 \\n (01)08437025423002  \\n(11)23 1218  \\n(21)6 \\n \\n  \\nWelcome to the next revolution in Rehab  \\n \\n3 \\nContenido  \\n \\n1. Introducción  ................................ ................................ .................  4 \\n1.1. Convenciones  ................................ ................................ .............  5 \\n1.2. Previsión de uso  ................................ ................................ ..........  6 \\n2. Precauciones  ................................ ................................ ...................  7 \\n2.1. Conformidad de uso  ................................ ................................ ...... 7 \\n2.2. Instrucciones de seguridad  ................................ ..............................  7 \\n2.2.1. Interferencias electromagnéticas  ................................ .................  7 \\n2.2.2. Conexión eléctrica  ................................ ................................ .. 8 \\n2.2.3. Entorno.  ................................ ................................ ..............  8 \\n2.2.4. Condiciones de almacenamiento ................................ ..................  9 \\n2.3. Mal funcionamiento  ................................ ................................ ...... 9 \\n2.4. Contraindicaciones  ................................ ................................ ...... 10 \\n3. Instalación - Desinstalación  ................................ ................................ . 11 \\n3.1. Procedimiento de instalación  ................................ .........................  11'),\n",
       "  Document(page_content='minutos aproximadamente , o lo considerado por el profesional responsable.   \\nExergames  \\nActualmente la plataforma cuenta con 12 actividades . Sus características son \\nlas siguientes:  \\n● EVAL: Actividad para monitorizar el rango  de movimiento  articular  de \\nmiembros superiores del usuario al realizar diferentes movimientos que \\nle propone Robic.  \\n● WARM UP: El robot  Robic propone unas secuencias de movimientos que \\nrealiza con la persona de manera simultánea. Puede utilizarse  como un \\ncalentamiento previo al resto de la sesión.  \\n● DYNAMIC: Robic propone secuencias de  ejercicios físicos  dirigidas al \\nentrenamiento  del rango de movimiento activo y aspectos funcionales de \\nmovilidad . Se trabaja  mediante la repetición de secuencias de \\nmovimientos.  \\n● AVDS: Robic representa la realización de diferentes Actividades de la \\nVida Diaria (AVDs) , como alimentación, aseo o compra, a través de sus  \\n  \\nWelcome to the next revolution in Rehab  \\n \\n14 \\nmovimientos , y ofrece guía verbal para que la persona las realice junto \\na él.  \\n● SYMBOLIC: Ejercicio  con desafíos a nivel motor y cognitivo, como  \\natención y memoria , en el que se presentan una serie de movimientos \\nsencillos que luego Robic nombrará para que  sean ejecutados por el \\nusuario.  \\n \\n● DANCE: Ejercicio de baile  en el que se enseña una coreografía con una \\ncanción , añadiendo pasos de forma progresiva. Finalmente se realiza la \\ncoreografía completa.  \\n● STATUES: Robic propone al usuario realizar diferentes posturas y \\nmantenerlas durante un tiempo determinado previamente por el clínico \\nal configurar la sesió n. Puede presentarse  para apoyar el trabajo a nivel \\npropioceptivo, de movimiento activo contra gravedad y resistencia, o \\natencional.   \\n● ROBIC SAYS: Actividad para apoyar el trabajo del esquema corporal, \\npropiocepción o atención , en la que Robic pide al usuario que se toque \\ndiferentes partes del cuerpo.  \\n● ROBIC LIES: Robic pide al usuario realizar diferentes acciones a la vez')]}"
      ]
     },
     "execution_count": 16,
     "metadata": {},
     "output_type": "execute_result"
    }
   ],
   "source": [
    "qa_with_source.invoke(\"Qué actividades ofrece Inrobics?\")"
   ]
  },
  {
   "cell_type": "code",
   "execution_count": 17,
   "id": "a3812794",
   "metadata": {},
   "outputs": [
    {
     "data": {
      "text/plain": [
       "{'query': 'Dame una lista de las  actividades que ofrece Inrobics, solo los nombres',\n",
       " 'result': \"- EVAL\\n- WARM UP\\n- DYNAMIC\\n- AVDS\\n- SYMBOLIC\\n- DANCE\\n- STATUES\\n- ROBIC SAYS\\n- ROBIC LIES\\n- DON'T STOP\\n- COLORS\",\n",
       " 'source_documents': [Document(page_content='minutos aproximadamente , o lo considerado por el profesional responsable.   \\nExergames  \\nActualmente la plataforma cuenta con 12 actividades . Sus características son \\nlas siguientes:  \\n● EVAL: Actividad para monitorizar el rango  de movimiento  articular  de \\nmiembros superiores del usuario al realizar diferentes movimientos que \\nle propone Robic.  \\n● WARM UP: El robot  Robic propone unas secuencias de movimientos que \\nrealiza con la persona de manera simultánea. Puede utilizarse  como un \\ncalentamiento previo al resto de la sesión.  \\n● DYNAMIC: Robic propone secuencias de  ejercicios físicos  dirigidas al \\nentrenamiento  del rango de movimiento activo y aspectos funcionales de \\nmovilidad . Se trabaja  mediante la repetición de secuencias de \\nmovimientos.  \\n● AVDS: Robic representa la realización de diferentes Actividades de la \\nVida Diaria (AVDs) , como alimentación, aseo o compra, a través de sus  \\n  \\nWelcome to the next revolution in Rehab  \\n \\n14 \\nmovimientos , y ofrece guía verbal para que la persona las realice junto \\na él.  \\n● SYMBOLIC: Ejercicio  con desafíos a nivel motor y cognitivo, como  \\natención y memoria , en el que se presentan una serie de movimientos \\nsencillos que luego Robic nombrará para que  sean ejecutados por el \\nusuario.  \\n \\n● DANCE: Ejercicio de baile  en el que se enseña una coreografía con una \\ncanción , añadiendo pasos de forma progresiva. Finalmente se realiza la \\ncoreografía completa.  \\n● STATUES: Robic propone al usuario realizar diferentes posturas y \\nmantenerlas durante un tiempo determinado previamente por el clínico \\nal configurar la sesió n. Puede presentarse  para apoyar el trabajo a nivel \\npropioceptivo, de movimiento activo contra gravedad y resistencia, o \\natencional.   \\n● ROBIC SAYS: Actividad para apoyar el trabajo del esquema corporal, \\npropiocepción o atención , en la que Robic pide al usuario que se toque \\ndiferentes partes del cuerpo.  \\n● ROBIC LIES: Robic pide al usuario realizar diferentes acciones a la vez'),\n",
       "  Document(page_content='diferentes niveles  de dificultad. Estas actividades  terapéuticas son fácilmente \\nconfigurables  y personalizables para que el profesional pueda individualizar  el \\ncaso de uso a cada paciente.  \\nUna sesión de Inrobics se compone de bloques de trabajo formados por los \\nexergames con descansos activos  intercalados  (en caso de que se prescriban). \\nEl tiempo de duración de una sesión con Inrobics es completamente \\nindividualizable a las necesidades del usuario, pudiendo ir desde 10 hasta 25 \\nminutos aproximadamente , o lo considerado por el profesional responsable.   \\nExergames  \\nActualmente la plataforma cuenta con 12 actividades . Sus características son \\nlas siguientes:  \\n● EVAL: Actividad para monitorizar el rango  de movimiento  articular  de \\nmiembros superiores del usuario al realizar diferentes movimientos que \\nle propone Robic.  \\n● WARM UP: El robot  Robic propone unas secuencias de movimientos que \\nrealiza con la persona de manera simultánea. Puede utilizarse  como un'),\n",
       "  Document(page_content='diferentes partes del cuerpo.  \\n● ROBIC LIES: Robic pide al usuario realizar diferentes acciones a la vez \\nque él. El usuario ha de estar atento porque en algunas ocasiones, la \\nacción que le pida realizar Robic , no coincidirá con el movimiento que \\nrealiza. \\n● DON´T STOP:  Actividad para  apoyar el trabajo de  movilidad  articular, \\npropiocepción, atención o memoria . Robic  enseñará al usuario una serie \\nde movimientos que ha de repetir durante un tiempo determinado \\npreviamente por el clínico al configurar la sesión.  \\n● COLORS:  Robic enseña una secuencia de colores con sus ojos, solicitando \\nal usuario recordar y repetir con la aplicación Tablet esta misma serie.  \\nEn cada turno, la secuencia va aumentando hasta alcanzar un máximo de \\ncolores, o hasta que el usuario falle tres veces . La actividad  se puede \\nutilizar para apoyar el trabajo de funciones cognitivas , como atención o \\nmemoria.   \\n  \\nWelcome to the next revolution in Rehab  \\n \\n15'),\n",
       "  Document(page_content='Inrobics  es un producto sanitario \\ncertificado de clase l en la Unión \\nEuropea  \\n Inrobics Social Robotics, S.L.L.  \\nAv. Gregorio Peces Barba 1,  \\n28919 Leganés (Madrid) - SPAIN  \\n Por favor, lea los manuales \\nproporcionados  \\n Número de serie: 6 \\n (01)08437025423002  \\n(11)23 1218  \\n(21)6 \\n \\n  \\nWelcome to the next revolution in Rehab  \\n \\n3 \\nContenido  \\n \\n1. Introducción  ................................ ................................ .................  4 \\n1.1. Convenciones  ................................ ................................ .............  5 \\n1.2. Previsión de uso  ................................ ................................ ..........  6 \\n2. Precauciones  ................................ ................................ ...................  7')]}"
      ]
     },
     "execution_count": 17,
     "metadata": {},
     "output_type": "execute_result"
    }
   ],
   "source": [
    "qa_with_source.invoke(\"Dame una lista de las  actividades que ofrece Inrobics, solo los nombres\")"
   ]
  },
  {
   "cell_type": "code",
   "execution_count": null,
   "id": "63102262",
   "metadata": {},
   "outputs": [],
   "source": []
  }
 ],
 "metadata": {
  "kernelspec": {
   "display_name": "Python 3 (ipykernel)",
   "language": "python",
   "name": "python3"
  },
  "language_info": {
   "codemirror_mode": {
    "name": "ipython",
    "version": 3
   },
   "file_extension": ".py",
   "mimetype": "text/x-python",
   "name": "python",
   "nbconvert_exporter": "python",
   "pygments_lexer": "ipython3",
   "version": "3.8.10"
  }
 },
 "nbformat": 4,
 "nbformat_minor": 5
}
